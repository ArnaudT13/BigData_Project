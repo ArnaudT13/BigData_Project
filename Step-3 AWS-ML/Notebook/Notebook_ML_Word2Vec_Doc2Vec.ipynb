{
 "cells": [
  {
   "cell_type": "markdown",
   "metadata": {},
   "source": [
    "# Notebook ML Word2Vec and Doc2Vec"
   ]
  },
  {
   "cell_type": "markdown",
   "metadata": {},
   "source": [
    "### Visualisation des données"
   ]
  },
  {
   "cell_type": "code",
   "execution_count": 1,
   "metadata": {},
   "outputs": [],
   "source": [
    "## for data\n",
    "import json\n",
    "import pandas as pd\n",
    "import numpy as np\n",
    "\n",
    "## for plotting\n",
    "import matplotlib.pyplot as plt\n",
    "\n",
    "## for processing\n",
    "import re\n",
    "import nltk\n",
    "\n",
    "## for bag-of-words\n",
    "from sklearn import feature_extraction, model_selection, naive_bayes, pipeline, manifold, preprocessing, feature_selection\n",
    "\n",
    "# machine learning\n",
    "from sklearn.model_selection import train_test_split, GridSearchCV\n",
    "from sklearn.linear_model import LogisticRegression\n",
    "from sklearn.metrics import accuracy_score\n",
    "\n",
    "import sklearn.metrics as metrics\n",
    "import seaborn as sns\n",
    "\n",
    "data = pd.read_json(\"data.json\")\n",
    "category = pd.read_csv(\"categories_string.csv\")\n",
    "label = pd.read_csv(\"label.csv\")\n"
   ]
  },
  {
   "cell_type": "markdown",
   "metadata": {},
   "source": [
    "### Création d'une nouvelle colonne correspondant à l'id de la catégorie de poste"
   ]
  },
  {
   "cell_type": "code",
   "execution_count": 2,
   "metadata": {},
   "outputs": [],
   "source": [
    "data = pd.merge(data, label, how=\"right\", on=\"Id\")"
   ]
  },
  {
   "cell_type": "markdown",
   "metadata": {},
   "source": [
    "### Récupération d'une partie des données"
   ]
  },
  {
   "cell_type": "code",
   "execution_count": 3,
   "metadata": {},
   "outputs": [],
   "source": [
    "data, data_other_part, y_studied_part, y_other_part = train_test_split(data, data[\"Category\"], train_size=0.3, random_state=211101)"
   ]
  },
  {
   "cell_type": "markdown",
   "metadata": {},
   "source": [
    "Vérification de la distribution des données"
   ]
  },
  {
   "cell_type": "code",
   "execution_count": 4,
   "metadata": {},
   "outputs": [
    {
     "data": {
      "image/png": "[encoded data removed]",
      "text/plain": [
       "<Figure size 720x504 with 1 Axes>"
      ]
     },
     "metadata": {
      "needs_background": "light"
     },
     "output_type": "display_data"
    }
   ],
   "source": [
    "plt.figure(figsize=(10, 7))\n",
    "plt.hist(data['Category'], 28)\n",
    "plt.title(\"Distribution with random_state=211101\")\n",
    "plt.xlabel(\"Jobs\")\n",
    "plt.xticks(ticks = range(28), labels = category['0'], rotation = 'vertical')\n",
    "plt.show()"
   ]
  },
  {
   "cell_type": "markdown",
   "metadata": {},
   "source": [
    "### Méthode de preprocessing des extraits de CV"
   ]
  },
  {
   "cell_type": "markdown",
   "metadata": {},
   "source": [
    "Méthode permettant le prérocessing des extratis de CV. "
   ]
  },
  {
   "cell_type": "code",
   "execution_count": 5,
   "metadata": {},
   "outputs": [],
   "source": [
    "'''\n",
    "Preprocess a string.\n",
    ":parameter\n",
    "    :param text: string - name of column containing text\n",
    "    :param lst_stopwords: list - list of stopwords to remove\n",
    "    :param flg_stemm: bool - whether stemming is to be applied\n",
    "    :param flg_lemm: bool - whether lemmitisation is to be applied\n",
    ":return\n",
    "    cleaned text\n",
    "'''\n",
    "def utils_preprocess_text(text, flg_stemm=False, flg_lemm=True, number=False, lst_stopwords=None):\n",
    "    ## clean (convert to lowercase and remove punctuations and characters and then strip)\n",
    "    text = re.sub(r'[^\\w\\s]', '', str(text).lower().strip())\n",
    "    \n",
    "    ## remove number\n",
    "    if not number:\n",
    "        text = re.sub('[0-9]+', '', text)\n",
    "            \n",
    "    ## Tokenize (convert from string to list)\n",
    "    lst_text = text.split()\n",
    "    \n",
    "    ## remove Stopwords\n",
    "    if lst_stopwords is not None:\n",
    "        lst_text = [word for word in lst_text if word not in lst_stopwords]\n",
    "                \n",
    "    ## Stemming (remove -ing, -ly, ...)\n",
    "    if flg_stemm == True:\n",
    "        ps = nltk.stem.porter.SnowballStemmer(\"english\")\n",
    "        lst_text = [ps.stem(word) for word in lst_text]\n",
    "                \n",
    "    ## Lemmatisation (convert the word into root word)\n",
    "    if flg_lemm == True:\n",
    "        lem = nltk.stem.wordnet.WordNetLemmatizer()\n",
    "        lst_text = [lem.lemmatize(word) for word in lst_text]\n",
    "            \n",
    "    ## back to string from list\n",
    "    text = \" \".join(lst_text)\n",
    "    return text"
   ]
  },
  {
   "cell_type": "code",
   "execution_count": 6,
   "metadata": {},
   "outputs": [
    {
     "name": "stderr",
     "output_type": "stream",
     "text": [
      "[nltk_data] Downloading package stopwords to\n",
      "[nltk_data]     C:\\Users\\taver\\AppData\\Roaming\\nltk_data...\n",
      "[nltk_data]   Package stopwords is already up-to-date!\n"
     ]
    }
   ],
   "source": [
    "nltk.download('stopwords')\n",
    "lst_stopwords = nltk.corpus.stopwords.words(\"english\")"
   ]
  },
  {
   "cell_type": "markdown",
   "metadata": {},
   "source": [
    "Appliquer la fonction à la liste des extraits de CV"
   ]
  },
  {
   "cell_type": "code",
   "execution_count": 7,
   "metadata": {},
   "outputs": [
    {
     "name": "stderr",
     "output_type": "stream",
     "text": [
      "[nltk_data] Downloading package wordnet to\n",
      "[nltk_data]     C:\\Users\\taver\\AppData\\Roaming\\nltk_data...\n",
      "[nltk_data]   Package wordnet is already up-to-date!\n"
     ]
    }
   ],
   "source": [
    "nltk.download('wordnet')\n",
    "data_clean = data\n",
    "data_clean[\"description_clean\"] = data_clean[\"description\"].apply(lambda x: utils_preprocess_text(x, flg_stemm=False, flg_lemm=True, number=True, lst_stopwords=lst_stopwords))"
   ]
  },
  {
   "cell_type": "code",
   "execution_count": 8,
   "metadata": {},
   "outputs": [
    {
     "data": {
      "text/html": [
       "<div>\n",
       "<style scoped>\n",
       "    .dataframe tbody tr th:only-of-type {\n",
       "        vertical-align: middle;\n",
       "    }\n",
       "\n",
       "    .dataframe tbody tr th {\n",
       "        vertical-align: top;\n",
       "    }\n",
       "\n",
       "    .dataframe thead th {\n",
       "        text-align: right;\n",
       "    }\n",
       "</style>\n",
       "<table border=\"1\" class=\"dataframe\">\n",
       "  <thead>\n",
       "    <tr style=\"text-align: right;\">\n",
       "      <th></th>\n",
       "      <th>Category</th>\n",
       "      <th>description_clean</th>\n",
       "    </tr>\n",
       "  </thead>\n",
       "  <tbody>\n",
       "    <tr>\n",
       "      <th>189320</th>\n",
       "      <td>19</td>\n",
       "      <td>work crossdisciplinary combination art science...</td>\n",
       "    </tr>\n",
       "    <tr>\n",
       "      <th>206083</th>\n",
       "      <td>9</td>\n",
       "      <td>joined viking fishing 1996 financial manager r...</td>\n",
       "    </tr>\n",
       "    <tr>\n",
       "      <th>147304</th>\n",
       "      <td>3</td>\n",
       "      <td>dubbed teacher teacher trained top teacher yog...</td>\n",
       "    </tr>\n",
       "    <tr>\n",
       "      <th>153829</th>\n",
       "      <td>19</td>\n",
       "      <td>obtained undergraduate degree vanderbilt unive...</td>\n",
       "    </tr>\n",
       "    <tr>\n",
       "      <th>49631</th>\n",
       "      <td>6</td>\n",
       "      <td>last 15 year worked journalist correspondent z...</td>\n",
       "    </tr>\n",
       "    <tr>\n",
       "      <th>...</th>\n",
       "      <td>...</td>\n",
       "      <td>...</td>\n",
       "    </tr>\n",
       "    <tr>\n",
       "      <th>68380</th>\n",
       "      <td>20</td>\n",
       "      <td>passion capturing feeling moment photograph gi...</td>\n",
       "    </tr>\n",
       "    <tr>\n",
       "      <th>179477</th>\n",
       "      <td>19</td>\n",
       "      <td>teach organizational behaviour crosscultural m...</td>\n",
       "    </tr>\n",
       "    <tr>\n",
       "      <th>18694</th>\n",
       "      <td>20</td>\n",
       "      <td>yorkshire born birmingham living abigail curre...</td>\n",
       "    </tr>\n",
       "    <tr>\n",
       "      <th>115975</th>\n",
       "      <td>19</td>\n",
       "      <td>specializes queer theory transgender study wel...</td>\n",
       "    </tr>\n",
       "    <tr>\n",
       "      <th>190128</th>\n",
       "      <td>19</td>\n",
       "      <td>received ba psychology boston university 1993 ...</td>\n",
       "    </tr>\n",
       "  </tbody>\n",
       "</table>\n",
       "<p>65159 rows × 2 columns</p>\n",
       "</div>"
      ],
      "text/plain": [
       "        Category                                  description_clean\n",
       "189320        19  work crossdisciplinary combination art science...\n",
       "206083         9  joined viking fishing 1996 financial manager r...\n",
       "147304         3  dubbed teacher teacher trained top teacher yog...\n",
       "153829        19  obtained undergraduate degree vanderbilt unive...\n",
       "49631          6  last 15 year worked journalist correspondent z...\n",
       "...          ...                                                ...\n",
       "68380         20  passion capturing feeling moment photograph gi...\n",
       "179477        19  teach organizational behaviour crosscultural m...\n",
       "18694         20  yorkshire born birmingham living abigail curre...\n",
       "115975        19  specializes queer theory transgender study wel...\n",
       "190128        19  received ba psychology boston university 1993 ...\n",
       "\n",
       "[65159 rows x 2 columns]"
      ]
     },
     "execution_count": 8,
     "metadata": {},
     "output_type": "execute_result"
    }
   ],
   "source": [
    "data_clean.drop(['description', 'gender', 'Id'], axis=1)"
   ]
  },
  {
   "cell_type": "markdown",
   "metadata": {},
   "source": [
    "## Word2Vec"
   ]
  },
  {
   "cell_type": "markdown",
   "metadata": {},
   "source": [
    "Tout d'abord, on charge le model Word2Vec. Il a été pré-formé par Google sur un corpus Google News de 100 milliards de mots."
   ]
  },
  {
   "cell_type": "code",
   "execution_count": 9,
   "metadata": {},
   "outputs": [],
   "source": [
    "from gensim.models import Word2Vec\n",
    "from gensim.models import KeyedVectors\n",
    "\n",
    "wv = KeyedVectors.load_word2vec_format(\"GoogleNews-vectors-negative300.bin.gz\", binary=True)\n",
    "wv.init_sims(replace=True)"
   ]
  },
  {
   "cell_type": "code",
   "execution_count": 10,
   "metadata": {},
   "outputs": [
    {
     "name": "stderr",
     "output_type": "stream",
     "text": [
      "[nltk_data] Downloading package punkt to\n",
      "[nltk_data]     C:\\Users\\taver\\AppData\\Roaming\\nltk_data...\n",
      "[nltk_data]   Package punkt is already up-to-date!\n"
     ]
    },
    {
     "data": {
      "text/plain": [
       "True"
      ]
     },
     "execution_count": 10,
     "metadata": {},
     "output_type": "execute_result"
    }
   ],
   "source": [
    "import nltk\n",
    "nltk.download('punkt')"
   ]
  },
  {
   "cell_type": "markdown",
   "metadata": {},
   "source": [
    "On peut observer une partie de ce vocabulaire."
   ]
  },
  {
   "cell_type": "code",
   "execution_count": 11,
   "metadata": {},
   "outputs": [
    {
     "data": {
      "text/plain": [
       "['Memorial_Hospital',\n",
       " 'Seniors',\n",
       " 'memorandum',\n",
       " 'elephant',\n",
       " 'Trump',\n",
       " 'Census',\n",
       " 'pilgrims',\n",
       " 'De',\n",
       " 'Dogs',\n",
       " '###-####_ext',\n",
       " 'chaotic',\n",
       " 'forgive',\n",
       " 'scholar',\n",
       " 'Lottery',\n",
       " 'decreasing',\n",
       " 'Supervisor',\n",
       " 'fundamentally',\n",
       " 'Fitness',\n",
       " 'abundance',\n",
       " 'Hold']"
      ]
     },
     "execution_count": 11,
     "metadata": {},
     "output_type": "execute_result"
    }
   ],
   "source": [
    "from itertools import islice\n",
    "from gensim import matutils\n",
    "list(islice(wv.vocab, 13030, 13050))"
   ]
  },
  {
   "cell_type": "markdown",
   "metadata": {},
   "source": [
    "On utilise une fonction qui permet de faire la moyenne des deux vecteurs de mots."
   ]
  },
  {
   "cell_type": "code",
   "execution_count": 12,
   "metadata": {},
   "outputs": [],
   "source": [
    "def word_averaging(wv, words):\n",
    "    all_words, mean = set(), []\n",
    "    \n",
    "    for word in words:\n",
    "        if isinstance(word, np.ndarray):\n",
    "            mean.append(word)\n",
    "        elif word in wv.vocab:\n",
    "            mean.append(wv.syn0norm[wv.vocab[word].index])\n",
    "            all_words.add(wv.vocab[word].index)\n",
    "\n",
    "    if not mean:\n",
    "        logging.warning(\"cannot compute similarity with no input %s\", words)\n",
    "        # FIXME: remove these examples in pre-processing\n",
    "        return np.zeros(wv.vector_size,)\n",
    "\n",
    "    mean = matutils.unitvec(np.array(mean).mean(axis=0)).astype(np.float32)\n",
    "    return mean\n",
    "\n",
    "def  word_averaging_list(wv, text_list):\n",
    "    return np.vstack([word_averaging(wv, post) for post in text_list ])"
   ]
  },
  {
   "cell_type": "markdown",
   "metadata": {},
   "source": [
    "Tokenization du texte:"
   ]
  },
  {
   "cell_type": "code",
   "execution_count": 13,
   "metadata": {},
   "outputs": [],
   "source": [
    "def w2v_tokenize_text(text):\n",
    "    tokens = []\n",
    "    # For each sentence in the text\n",
    "    for sent in nltk.sent_tokenize(text, language='english'):\n",
    "        # For each words in the text\n",
    "        for word in nltk.word_tokenize(sent, language='english'):\n",
    "            if len(word) < 2:\n",
    "                continue\n",
    "            tokens.append(word)\n",
    "    return tokens"
   ]
  },
  {
   "cell_type": "code",
   "execution_count": 19,
   "metadata": {},
   "outputs": [],
   "source": [
    "train, test = train_test_split(data_clean, test_size=0.2, random_state=211101)"
   ]
  },
  {
   "cell_type": "code",
   "execution_count": 20,
   "metadata": {},
   "outputs": [],
   "source": [
    "test_tokenized = test.apply(lambda r: w2v_tokenize_text(r['description_clean']), axis=1).values\n",
    "train_tokenized = train.apply(lambda r: w2v_tokenize_text(r['description_clean']), axis=1).values"
   ]
  },
  {
   "cell_type": "code",
   "execution_count": 21,
   "metadata": {},
   "outputs": [
    {
     "name": "stderr",
     "output_type": "stream",
     "text": [
      "<ipython-input-12-be2991ec905f>:8: DeprecationWarning: Call to deprecated `syn0norm` (Attribute will be removed in 4.0.0, use self.vectors_norm instead).\n",
      "  mean.append(wv.syn0norm[wv.vocab[word].index])\n"
     ]
    }
   ],
   "source": [
    "X_train_word_average = word_averaging_list(wv,train_tokenized)\n",
    "X_test_word_average = word_averaging_list(wv,test_tokenized)"
   ]
  },
  {
   "cell_type": "code",
   "execution_count": 22,
   "metadata": {},
   "outputs": [
    {
     "name": "stdout",
     "output_type": "stream",
     "text": [
      "Train:  0.7747424559249525\n",
      "Test:  0.7460865561694291\n"
     ]
    },
    {
     "name": "stderr",
     "output_type": "stream",
     "text": [
      "c:\\users\\taver\\appdata\\local\\programs\\python\\python38\\lib\\site-packages\\sklearn\\linear_model\\_logistic.py:762: ConvergenceWarning: lbfgs failed to converge (status=1):\n",
      "STOP: TOTAL NO. of ITERATIONS REACHED LIMIT.\n",
      "\n",
      "Increase the number of iterations (max_iter) or scale the data as shown in:\n",
      "    https://scikit-learn.org/stable/modules/preprocessing.html\n",
      "Please also refer to the documentation for alternative solver options:\n",
      "    https://scikit-learn.org/stable/modules/linear_model.html#logistic-regression\n",
      "  n_iter_i = _check_optimize_result(\n"
     ]
    }
   ],
   "source": [
    "logreg = LogisticRegression(n_jobs=1, C=1e5, max_iter=100)\n",
    "logreg.fit(X_train_word_average, train['Category'])\n",
    "\n",
    "print('Train: ', logreg.score(X_train_word_average, train['Category']))\n",
    "print('Test: ', logreg.score(X_test_word_average, test['Category']))\n"
   ]
  },
  {
   "cell_type": "code",
   "execution_count": null,
   "metadata": {},
   "outputs": [],
   "source": []
  },
  {
   "cell_type": "code",
   "execution_count": null,
   "metadata": {},
   "outputs": [],
   "source": []
  },
  {
   "cell_type": "markdown",
   "metadata": {},
   "source": [
    "## Doc2vec"
   ]
  },
  {
   "cell_type": "code",
   "execution_count": 23,
   "metadata": {},
   "outputs": [
    {
     "name": "stderr",
     "output_type": "stream",
     "text": [
      "c:\\users\\taver\\appdata\\local\\programs\\python\\python38\\lib\\site-packages\\tqdm\\std.py:702: FutureWarning: The Panel class is removed from pandas. Accessing it from the top-level namespace will also be removed in the next version\n",
      "  from pandas import Panel\n"
     ]
    }
   ],
   "source": [
    "from tqdm import tqdm\n",
    "tqdm.pandas(desc=\"progress-bar\")\n",
    "from gensim.models import Doc2Vec\n",
    "from sklearn import utils\n",
    "import gensim\n",
    "from gensim.models.doc2vec import TaggedDocument\n",
    "import re\n",
    "\n",
    "def label_sentences(corpus, label_type):\n",
    "    \"\"\"\n",
    "    Gensim's Doc2Vec implementation requires each document/paragraph to have a label associated with it.\n",
    "    We do this by using the TaggedDocument method. The format will be \"TRAIN_i\" or \"TEST_i\" where \"i\" is\n",
    "    a dummy index of the post.\n",
    "    \"\"\"\n",
    "    labeled = []\n",
    "    for i, v in enumerate(corpus):\n",
    "        label = label_type + '_' + str(i)\n",
    "        labeled.append(TaggedDocument(v.split(), [label]))\n",
    "    return labeled\n",
    "\n",
    "\n",
    "X_train, X_test, y_train, y_test = train_test_split(data_clean['description_clean'], data_clean[\"Category\"], random_state=211101, test_size=0.2)\n",
    "X_train = label_sentences(X_train, 'Train')\n",
    "X_test = label_sentences(X_test, 'Test')\n",
    "all_data = X_train + X_test"
   ]
  },
  {
   "cell_type": "code",
   "execution_count": null,
   "metadata": {},
   "outputs": [],
   "source": []
  },
  {
   "cell_type": "code",
   "execution_count": 24,
   "metadata": {},
   "outputs": [
    {
     "name": "stderr",
     "output_type": "stream",
     "text": [
      "100%|███████████████████████████████████████████████████████████████████████| 65159/65159 [00:00<00:00, 3663543.14it/s]\n",
      "100%|███████████████████████████████████████████████████████████████████████| 65159/65159 [00:00<00:00, 4010163.52it/s]\n",
      "100%|███████████████████████████████████████████████████████████████████████| 65159/65159 [00:00<00:00, 2700613.20it/s]\n",
      "100%|███████████████████████████████████████████████████████████████████████| 65159/65159 [00:00<00:00, 3375491.32it/s]\n",
      "100%|███████████████████████████████████████████████████████████████████████| 65159/65159 [00:00<00:00, 3085517.81it/s]\n",
      "100%|███████████████████████████████████████████████████████████████████████| 65159/65159 [00:00<00:00, 3273641.11it/s]\n",
      "100%|███████████████████████████████████████████████████████████████████████| 65159/65159 [00:00<00:00, 3132914.40it/s]\n",
      "100%|███████████████████████████████████████████████████████████████████████| 65159/65159 [00:00<00:00, 3434237.93it/s]\n",
      "100%|███████████████████████████████████████████████████████████████████████| 65159/65159 [00:00<00:00, 2619214.08it/s]\n",
      "100%|███████████████████████████████████████████████████████████████████████| 65159/65159 [00:00<00:00, 3190407.12it/s]\n",
      "100%|███████████████████████████████████████████████████████████████████████| 65159/65159 [00:00<00:00, 3348320.97it/s]\n",
      "100%|███████████████████████████████████████████████████████████████████████| 65159/65159 [00:00<00:00, 3058069.96it/s]\n",
      "100%|███████████████████████████████████████████████████████████████████████| 65159/65159 [00:00<00:00, 3284934.00it/s]\n",
      "100%|███████████████████████████████████████████████████████████████████████| 65159/65159 [00:00<00:00, 2994802.09it/s]\n",
      "100%|███████████████████████████████████████████████████████████████████████| 65159/65159 [00:00<00:00, 2774078.39it/s]\n",
      "100%|███████████████████████████████████████████████████████████████████████| 65159/65159 [00:00<00:00, 3284026.13it/s]\n",
      "100%|███████████████████████████████████████████████████████████████████████| 65159/65159 [00:00<00:00, 3573719.88it/s]\n",
      "100%|███████████████████████████████████████████████████████████████████████| 65159/65159 [00:00<00:00, 2722213.80it/s]\n",
      "100%|███████████████████████████████████████████████████████████████████████| 65159/65159 [00:00<00:00, 2905618.39it/s]\n",
      "100%|███████████████████████████████████████████████████████████████████████| 65159/65159 [00:00<00:00, 3452982.44it/s]\n",
      "100%|███████████████████████████████████████████████████████████████████████| 65159/65159 [00:00<00:00, 3144195.93it/s]\n",
      "100%|███████████████████████████████████████████████████████████████████████| 65159/65159 [00:00<00:00, 3712160.15it/s]\n",
      "100%|███████████████████████████████████████████████████████████████████████| 65159/65159 [00:00<00:00, 3503309.20it/s]\n",
      "100%|███████████████████████████████████████████████████████████████████████| 65159/65159 [00:00<00:00, 3169244.78it/s]\n",
      "100%|███████████████████████████████████████████████████████████████████████| 65159/65159 [00:00<00:00, 3113462.84it/s]\n",
      "100%|███████████████████████████████████████████████████████████████████████| 65159/65159 [00:00<00:00, 3111477.82it/s]\n",
      "100%|███████████████████████████████████████████████████████████████████████| 65159/65159 [00:00<00:00, 3218662.75it/s]\n",
      "100%|███████████████████████████████████████████████████████████████████████| 65159/65159 [00:00<00:00, 3303676.69it/s]\n",
      "100%|███████████████████████████████████████████████████████████████████████| 65159/65159 [00:00<00:00, 3138923.52it/s]\n",
      "100%|███████████████████████████████████████████████████████████████████████| 65159/65159 [00:00<00:00, 3291501.42it/s]\n",
      "100%|███████████████████████████████████████████████████████████████████████| 65159/65159 [00:00<00:00, 3216049.31it/s]\n"
     ]
    }
   ],
   "source": [
    "model_dbow = Doc2Vec(dm=0, vector_size=300, negative=5, min_count=1, alpha=0.065, min_alpha=0.065)\n",
    "model_dbow.build_vocab([x for x in tqdm(all_data)])\n",
    "\n",
    "for epoch in range(30):\n",
    "    model_dbow.train(utils.shuffle([x for x in tqdm(all_data)]), total_examples=len(all_data), epochs=1)\n",
    "    model_dbow.alpha -= 0.002\n",
    "    model_dbow.min_alpha = model_dbow.alpha"
   ]
  },
  {
   "cell_type": "code",
   "execution_count": null,
   "metadata": {},
   "outputs": [],
   "source": []
  },
  {
   "cell_type": "code",
   "execution_count": 25,
   "metadata": {},
   "outputs": [],
   "source": [
    "def get_vectors(model, corpus_size, vectors_size, vectors_type):\n",
    "    \"\"\"\n",
    "    Get vectors from trained doc2vec model\n",
    "    :param doc2vec_model: Trained Doc2Vec model\n",
    "    :param corpus_size: Size of the data\n",
    "    :param vectors_size: Size of the embedding vectors\n",
    "    :param vectors_type: Training or Testing vectors\n",
    "    :return: list of vectors\n",
    "    \"\"\"\n",
    "    vectors = np.zeros((corpus_size, vectors_size))\n",
    "    for i in range(0, corpus_size):\n",
    "        prefix = vectors_type + '_' + str(i)\n",
    "        vectors[i] = model.docvecs[prefix]\n",
    "    return vectors\n",
    "    \n",
    "train_vectors_dbow = get_vectors(model_dbow, len(X_train), 300, 'Train')\n",
    "test_vectors_dbow = get_vectors(model_dbow, len(X_test), 300, 'Test')\n"
   ]
  },
  {
   "cell_type": "code",
   "execution_count": null,
   "metadata": {},
   "outputs": [],
   "source": []
  },
  {
   "cell_type": "code",
   "execution_count": null,
   "metadata": {},
   "outputs": [],
   "source": [
    "logreg = LogisticRegression(n_jobs=1, C=1e5, max_iter=1000)\n",
    "logreg.fit(train_vectors_dbow, y_train)\n",
    "logreg = logreg.fit(train_vectors_dbow, y_train)\n",
    "print('Train: ', logreg.score(train_vectors_dbow, y_train))\n",
    "print('Test: ', logreg.score(test_vectors_dbow, y_test))"
   ]
  },
  {
   "cell_type": "code",
   "execution_count": null,
   "metadata": {},
   "outputs": [],
   "source": []
  },
  {
   "cell_type": "code",
   "execution_count": null,
   "metadata": {},
   "outputs": [],
   "source": []
  },
  {
   "cell_type": "code",
   "execution_count": null,
   "metadata": {},
   "outputs": [],
   "source": []
  },
  {
   "cell_type": "code",
   "execution_count": null,
   "metadata": {},
   "outputs": [],
   "source": []
  },
  {
   "cell_type": "code",
   "execution_count": null,
   "metadata": {},
   "outputs": [],
   "source": []
  },
  {
   "cell_type": "code",
   "execution_count": null,
   "metadata": {},
   "outputs": [],
   "source": []
  },
  {
   "cell_type": "code",
   "execution_count": null,
   "metadata": {},
   "outputs": [],
   "source": []
  }
 ],
 "metadata": {
  "kernelspec": {
   "display_name": "Python 3",
   "language": "python",
   "name": "python3"
  },
  "language_info": {
   "codemirror_mode": {
    "name": "ipython",
    "version": 3
   },
   "file_extension": ".py",
   "mimetype": "text/x-python",
   "name": "python",
   "nbconvert_exporter": "python",
   "pygments_lexer": "ipython3",
   "version": "3.8.1"
  }
 },
 "nbformat": 4,
 "nbformat_minor": 4
}
