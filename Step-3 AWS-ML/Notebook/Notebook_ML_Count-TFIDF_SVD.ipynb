{
 "cells": [
  {
   "cell_type": "markdown",
   "metadata": {},
   "source": [
    "# Notebook Count/TFIDF - SVD - ML (Git)"
   ]
  },
  {
   "cell_type": "markdown",
   "metadata": {},
   "source": [
    "**Disclaimer :** Si vous avez lu le notebook **Notebook Count/TFIDF - Chi2 - ML**, vous pouvez directement aller à la partie **Sélection des features avec la reduction de dimension (SVD/LSA)**"
   ]
  },
  {
   "cell_type": "markdown",
   "metadata": {},
   "source": [
    "## Imports et chargemement des données"
   ]
  },
  {
   "cell_type": "code",
   "execution_count": 1,
   "metadata": {},
   "outputs": [
    {
     "data": {
      "text/html": [
       "<div>\n",
       "<style scoped>\n",
       "    .dataframe tbody tr th:only-of-type {\n",
       "        vertical-align: middle;\n",
       "    }\n",
       "\n",
       "    .dataframe tbody tr th {\n",
       "        vertical-align: top;\n",
       "    }\n",
       "\n",
       "    .dataframe thead th {\n",
       "        text-align: right;\n",
       "    }\n",
       "</style>\n",
       "<table border=\"1\" class=\"dataframe\">\n",
       "  <thead>\n",
       "    <tr style=\"text-align: right;\">\n",
       "      <th></th>\n",
       "      <th>Id</th>\n",
       "      <th>description</th>\n",
       "      <th>gender</th>\n",
       "    </tr>\n",
       "  </thead>\n",
       "  <tbody>\n",
       "    <tr>\n",
       "      <th>0</th>\n",
       "      <td>0</td>\n",
       "      <td>She is also a Ronald D. Asmus Policy Entrepre...</td>\n",
       "      <td>F</td>\n",
       "    </tr>\n",
       "    <tr>\n",
       "      <th>1</th>\n",
       "      <td>1</td>\n",
       "      <td>He is a member of the AICPA and WICPA. Brent ...</td>\n",
       "      <td>M</td>\n",
       "    </tr>\n",
       "    <tr>\n",
       "      <th>2</th>\n",
       "      <td>2</td>\n",
       "      <td>Dr. Aster has held teaching and research posi...</td>\n",
       "      <td>M</td>\n",
       "    </tr>\n",
       "    <tr>\n",
       "      <th>4</th>\n",
       "      <td>3</td>\n",
       "      <td>He runs a boutique design studio attending cl...</td>\n",
       "      <td>M</td>\n",
       "    </tr>\n",
       "    <tr>\n",
       "      <th>5</th>\n",
       "      <td>4</td>\n",
       "      <td>He focuses on cloud security, identity and ac...</td>\n",
       "      <td>M</td>\n",
       "    </tr>\n",
       "  </tbody>\n",
       "</table>\n",
       "</div>"
      ],
      "text/plain": [
       "   Id                                        description gender\n",
       "0   0   She is also a Ronald D. Asmus Policy Entrepre...      F\n",
       "1   1   He is a member of the AICPA and WICPA. Brent ...      M\n",
       "2   2   Dr. Aster has held teaching and research posi...      M\n",
       "4   3   He runs a boutique design studio attending cl...      M\n",
       "5   4   He focuses on cloud security, identity and ac...      M"
      ]
     },
     "execution_count": 1,
     "metadata": {},
     "output_type": "execute_result"
    }
   ],
   "source": [
    "## for data\n",
    "import json\n",
    "import pandas as pd\n",
    "import numpy as np\n",
    "\n",
    "## for plotting\n",
    "import matplotlib.pyplot as plt\n",
    "\n",
    "## for processing\n",
    "import re\n",
    "import nltk\n",
    "from nltk.stem.porter import PorterStemmer\n",
    "from nltk.stem import SnowballStemmer\n",
    "\n",
    "## for bag-of-words\n",
    "from sklearn import feature_extraction, model_selection, naive_bayes, pipeline, manifold, preprocessing, feature_selection\n",
    "\n",
    "# machine learning\n",
    "from sklearn.model_selection import train_test_split, GridSearchCV\n",
    "from sklearn.neural_network import MLPClassifier\n",
    "from sklearn.neighbors import KNeighborsClassifier\n",
    "from sklearn.ensemble import RandomForestClassifier\n",
    "from sklearn.linear_model import LogisticRegression\n",
    "from sklearn.decomposition import TruncatedSVD\n",
    "\n",
    "import sklearn.metrics as metrics\n",
    "import seaborn as sns\n",
    "\n",
    "data = pd.read_json(\"data.json\")\n",
    "category = pd.read_csv(\"categories_string.csv\")\n",
    "label = pd.read_csv(\"label.csv\")\n",
    "\n",
    "data.head()"
   ]
  },
  {
   "cell_type": "markdown",
   "metadata": {},
   "source": [
    "## Création d'une nouvelle colonne dans le dataset correspondant à l'id de la catégorie de poste"
   ]
  },
  {
   "cell_type": "markdown",
   "metadata": {},
   "source": [
    "On visualise les données dans les fichiers `data.json` et `categories_string.csv`."
   ]
  },
  {
   "cell_type": "code",
   "execution_count": 2,
   "metadata": {},
   "outputs": [
    {
     "data": {
      "text/html": [
       "<div>\n",
       "<style scoped>\n",
       "    .dataframe tbody tr th:only-of-type {\n",
       "        vertical-align: middle;\n",
       "    }\n",
       "\n",
       "    .dataframe tbody tr th {\n",
       "        vertical-align: top;\n",
       "    }\n",
       "\n",
       "    .dataframe thead th {\n",
       "        text-align: right;\n",
       "    }\n",
       "</style>\n",
       "<table border=\"1\" class=\"dataframe\">\n",
       "  <thead>\n",
       "    <tr style=\"text-align: right;\">\n",
       "      <th></th>\n",
       "      <th>Id</th>\n",
       "      <th>description</th>\n",
       "      <th>gender</th>\n",
       "    </tr>\n",
       "  </thead>\n",
       "  <tbody>\n",
       "    <tr>\n",
       "      <th>0</th>\n",
       "      <td>0</td>\n",
       "      <td>She is also a Ronald D. Asmus Policy Entrepre...</td>\n",
       "      <td>F</td>\n",
       "    </tr>\n",
       "    <tr>\n",
       "      <th>1</th>\n",
       "      <td>1</td>\n",
       "      <td>He is a member of the AICPA and WICPA. Brent ...</td>\n",
       "      <td>M</td>\n",
       "    </tr>\n",
       "    <tr>\n",
       "      <th>2</th>\n",
       "      <td>2</td>\n",
       "      <td>Dr. Aster has held teaching and research posi...</td>\n",
       "      <td>M</td>\n",
       "    </tr>\n",
       "    <tr>\n",
       "      <th>4</th>\n",
       "      <td>3</td>\n",
       "      <td>He runs a boutique design studio attending cl...</td>\n",
       "      <td>M</td>\n",
       "    </tr>\n",
       "    <tr>\n",
       "      <th>5</th>\n",
       "      <td>4</td>\n",
       "      <td>He focuses on cloud security, identity and ac...</td>\n",
       "      <td>M</td>\n",
       "    </tr>\n",
       "    <tr>\n",
       "      <th>7</th>\n",
       "      <td>5</td>\n",
       "      <td>He is author of several books, including the ...</td>\n",
       "      <td>M</td>\n",
       "    </tr>\n",
       "    <tr>\n",
       "      <th>8</th>\n",
       "      <td>6</td>\n",
       "      <td>As an associate Web producer for WFIU, Liz ma...</td>\n",
       "      <td>F</td>\n",
       "    </tr>\n",
       "    <tr>\n",
       "      <th>9</th>\n",
       "      <td>7</td>\n",
       "      <td>He holds a Journalism Master’s degree from Ro...</td>\n",
       "      <td>M</td>\n",
       "    </tr>\n",
       "    <tr>\n",
       "      <th>10</th>\n",
       "      <td>8</td>\n",
       "      <td>Her teachings get straight to the heart of Ta...</td>\n",
       "      <td>F</td>\n",
       "    </tr>\n",
       "    <tr>\n",
       "      <th>12</th>\n",
       "      <td>9</td>\n",
       "      <td>For more quips and tips, refer to her blog, “...</td>\n",
       "      <td>F</td>\n",
       "    </tr>\n",
       "  </tbody>\n",
       "</table>\n",
       "</div>"
      ],
      "text/plain": [
       "    Id                                        description gender\n",
       "0    0   She is also a Ronald D. Asmus Policy Entrepre...      F\n",
       "1    1   He is a member of the AICPA and WICPA. Brent ...      M\n",
       "2    2   Dr. Aster has held teaching and research posi...      M\n",
       "4    3   He runs a boutique design studio attending cl...      M\n",
       "5    4   He focuses on cloud security, identity and ac...      M\n",
       "7    5   He is author of several books, including the ...      M\n",
       "8    6   As an associate Web producer for WFIU, Liz ma...      F\n",
       "9    7   He holds a Journalism Master’s degree from Ro...      M\n",
       "10   8   Her teachings get straight to the heart of Ta...      F\n",
       "12   9   For more quips and tips, refer to her blog, “...      F"
      ]
     },
     "execution_count": 2,
     "metadata": {},
     "output_type": "execute_result"
    }
   ],
   "source": [
    "data.head(10)"
   ]
  },
  {
   "cell_type": "markdown",
   "metadata": {},
   "source": [
    "Les deux jeux de données sont liés par la colonne `Id`.  \n",
    "\n",
    "On peut donc réaliser un merge des deux à partir des valeurs de cette colonne."
   ]
  },
  {
   "cell_type": "code",
   "execution_count": 3,
   "metadata": {},
   "outputs": [],
   "source": [
    "data = pd.merge(data, label, how=\"right\", on=\"Id\")"
   ]
  },
  {
   "cell_type": "markdown",
   "metadata": {},
   "source": [
    "## Récupération d'une partie des données du dataset"
   ]
  },
  {
   "cell_type": "markdown",
   "metadata": {},
   "source": [
    "Pour des raisons de ressources disponibles sur les machines (local ou AWS), on récupère une petite partie des données (ici, 10%)."
   ]
  },
  {
   "cell_type": "code",
   "execution_count": 4,
   "metadata": {},
   "outputs": [],
   "source": [
    "data, data_other_part, y_studied_part, y_other_part = train_test_split(data, data[\"Category\"], train_size=0.1, random_state=211101)"
   ]
  },
  {
   "cell_type": "markdown",
   "metadata": {},
   "source": [
    " "
   ]
  },
  {
   "cell_type": "markdown",
   "metadata": {},
   "source": [
    "On vérifie la distribution des données à l'aide du graphique suivant:"
   ]
  },
  {
   "cell_type": "code",
   "execution_count": 5,
   "metadata": {},
   "outputs": [
    {
     "data": {
      "image/png": "[encoded data removed]",
      "text/plain": [
       "<Figure size 720x504 with 1 Axes>"
      ]
     },
     "metadata": {
      "needs_background": "light"
     },
     "output_type": "display_data"
    }
   ],
   "source": [
    "plt.figure(figsize=(10, 7))\n",
    "plt.hist(data['Category'], 28)\n",
    "plt.title(\"Distribution with random_state=211101\")\n",
    "plt.xlabel(\"Jobs\")\n",
    "plt.xticks(ticks = range(28), labels = category['0'], rotation = 'vertical')\n",
    "plt.show()"
   ]
  },
  {
   "cell_type": "markdown",
   "metadata": {},
   "source": [
    "On s'aperçoit que toutes les classes sont bien représentées."
   ]
  },
  {
   "cell_type": "markdown",
   "metadata": {},
   "source": [
    "## Préprocessing des extraits de CV"
   ]
  },
  {
   "cell_type": "markdown",
   "metadata": {},
   "source": [
    "On crée une méthode permettant le préprocessing des extraits de CV. "
   ]
  },
  {
   "cell_type": "code",
   "execution_count": 6,
   "metadata": {},
   "outputs": [],
   "source": [
    "'''\n",
    "Preprocess a CV extract\n",
    ":parameter\n",
    "    :param text: string - CV extract\n",
    "    :param flg_stemm: bool - whether stemming is to be applied\n",
    "    :param flg_lemm: bool - whether lemmitisation is to be applied\n",
    "    :param number: bool - whether number removal is to be applied\n",
    "    :param lst_stopwords: list - list of stopwords to remove\n",
    ":return\n",
    "    cleaned CV extract\n",
    "'''\n",
    "def utils_preprocess_text(text, flg_stemm=False, flg_lemm=True, number=True, lst_stopwords=None):\n",
    "    ## clean --> convert to lowercase and remove punctuations and characters and then strip\n",
    "    text = re.sub(r'[^\\w\\s]', '', str(text).lower().strip())\n",
    "    \n",
    "    ## remove number in the text\n",
    "    if number == True:\n",
    "        text = re.sub('[0-9]+', '', text)\n",
    "            \n",
    "    ## convert from string to list\n",
    "    lst_text = text.split()\n",
    "    \n",
    "    ## remove Stopwords\n",
    "    if lst_stopwords is not None:\n",
    "        lst_text = [word for word in lst_text if word not in lst_stopwords]\n",
    "                \n",
    "    ## Stemming (remove -ing, -ly, ...)\n",
    "    if flg_stemm == True:\n",
    "        ps = nltk.stem.SnowballStemmer(\"english\")\n",
    "        lst_text = [ps.stem(word) for word in lst_text]\n",
    "                \n",
    "    ## Lemmatisation (convert the word into root word)\n",
    "    if flg_lemm == True:\n",
    "        lem = nltk.stem.wordnet.WordNetLemmatizer()\n",
    "        lst_text = [lem.lemmatize(word) for word in lst_text]\n",
    "            \n",
    "    ## back to string from list\n",
    "    text = \" \".join(lst_text)\n",
    "    return text"
   ]
  },
  {
   "cell_type": "markdown",
   "metadata": {},
   "source": [
    " "
   ]
  },
  {
   "cell_type": "markdown",
   "metadata": {},
   "source": [
    "On récupère la liste de stopwords du module `nltk`."
   ]
  },
  {
   "cell_type": "code",
   "execution_count": 7,
   "metadata": {},
   "outputs": [
    {
     "name": "stderr",
     "output_type": "stream",
     "text": [
      "[nltk_data] Downloading package stopwords to\n",
      "[nltk_data]     C:\\Users\\cedri\\AppData\\Roaming\\nltk_data...\n",
      "[nltk_data]   Package stopwords is already up-to-date!\n"
     ]
    }
   ],
   "source": [
    "nltk.download('stopwords')\n",
    "lst_stopwords = nltk.corpus.stopwords.words(\"english\")"
   ]
  },
  {
   "cell_type": "markdown",
   "metadata": {},
   "source": [
    " "
   ]
  },
  {
   "cell_type": "markdown",
   "metadata": {},
   "source": [
    "On applique la fonction de préprocessing à la liste des extraits de CV. Le retour de la fonction est stocké dans une nouvelle colonne : `description_clean`."
   ]
  },
  {
   "cell_type": "code",
   "execution_count": 8,
   "metadata": {},
   "outputs": [
    {
     "name": "stderr",
     "output_type": "stream",
     "text": [
      "[nltk_data] Downloading package wordnet to\n",
      "[nltk_data]     C:\\Users\\cedri\\AppData\\Roaming\\nltk_data...\n",
      "[nltk_data]   Package wordnet is already up-to-date!\n"
     ]
    },
    {
     "data": {
      "text/html": [
       "<div>\n",
       "<style scoped>\n",
       "    .dataframe tbody tr th:only-of-type {\n",
       "        vertical-align: middle;\n",
       "    }\n",
       "\n",
       "    .dataframe tbody tr th {\n",
       "        vertical-align: top;\n",
       "    }\n",
       "\n",
       "    .dataframe thead th {\n",
       "        text-align: right;\n",
       "    }\n",
       "</style>\n",
       "<table border=\"1\" class=\"dataframe\">\n",
       "  <thead>\n",
       "    <tr style=\"text-align: right;\">\n",
       "      <th></th>\n",
       "      <th>Id</th>\n",
       "      <th>description</th>\n",
       "      <th>gender</th>\n",
       "      <th>Category</th>\n",
       "      <th>description_clean</th>\n",
       "    </tr>\n",
       "  </thead>\n",
       "  <tbody>\n",
       "    <tr>\n",
       "      <th>186425</th>\n",
       "      <td>186425</td>\n",
       "      <td>Mr. Bossenbroek primarily represents healthca...</td>\n",
       "      <td>M</td>\n",
       "      <td>26</td>\n",
       "      <td>mr bossenbroek primarily represents healthcare...</td>\n",
       "    </tr>\n",
       "    <tr>\n",
       "      <th>106264</th>\n",
       "      <td>106264</td>\n",
       "      <td>He is also affiliated with the Center for Eco...</td>\n",
       "      <td>M</td>\n",
       "      <td>19</td>\n",
       "      <td>also affiliated center economic policy researc...</td>\n",
       "    </tr>\n",
       "    <tr>\n",
       "      <th>51484</th>\n",
       "      <td>51484</td>\n",
       "      <td>He has testified in a number of forums. Eric ...</td>\n",
       "      <td>M</td>\n",
       "      <td>9</td>\n",
       "      <td>testified number forum eric began career audit...</td>\n",
       "    </tr>\n",
       "    <tr>\n",
       "      <th>80136</th>\n",
       "      <td>80136</td>\n",
       "      <td>Prior to joining CEIBS, she was an Associate ...</td>\n",
       "      <td>F</td>\n",
       "      <td>19</td>\n",
       "      <td>prior joining ceibs associate professor manage...</td>\n",
       "    </tr>\n",
       "    <tr>\n",
       "      <th>139681</th>\n",
       "      <td>139681</td>\n",
       "      <td>Med (Bioethics and Health Law) degrees. He at...</td>\n",
       "      <td>M</td>\n",
       "      <td>26</td>\n",
       "      <td>med bioethics health law degree attends legal ...</td>\n",
       "    </tr>\n",
       "  </tbody>\n",
       "</table>\n",
       "</div>"
      ],
      "text/plain": [
       "            Id                                        description gender  \\\n",
       "186425  186425   Mr. Bossenbroek primarily represents healthca...      M   \n",
       "106264  106264   He is also affiliated with the Center for Eco...      M   \n",
       "51484    51484   He has testified in a number of forums. Eric ...      M   \n",
       "80136    80136   Prior to joining CEIBS, she was an Associate ...      F   \n",
       "139681  139681   Med (Bioethics and Health Law) degrees. He at...      M   \n",
       "\n",
       "        Category                                  description_clean  \n",
       "186425        26  mr bossenbroek primarily represents healthcare...  \n",
       "106264        19  also affiliated center economic policy researc...  \n",
       "51484          9  testified number forum eric began career audit...  \n",
       "80136         19  prior joining ceibs associate professor manage...  \n",
       "139681        26  med bioethics health law degree attends legal ...  "
      ]
     },
     "execution_count": 8,
     "metadata": {},
     "output_type": "execute_result"
    }
   ],
   "source": [
    "nltk.download('wordnet')\n",
    "data_clean = data\n",
    "data_clean[\"description_clean\"] = data_clean[\"description\"].apply(lambda x: utils_preprocess_text(x, flg_stemm=False, flg_lemm=True, number=True, lst_stopwords=lst_stopwords))\n",
    "data_clean.head()"
   ]
  },
  {
   "cell_type": "markdown",
   "metadata": {},
   "source": [
    "## Première Vectorisation avec Count et TF-IDF\n",
    "### Vectorizer Count\n",
    "On applique le vectorizer `Count`. Il est basé sur la fréquence des mots.  \n",
    "\n",
    "Cependant, cette méthode est peu utilisée, car un mot peut être très fréquent mais peu prédictif."
   ]
  },
  {
   "cell_type": "code",
   "execution_count": 9,
   "metadata": {},
   "outputs": [],
   "source": [
    "## Count (classic BoW)\n",
    "vectorizerCount = feature_extraction.text.CountVectorizer(ngram_range=(1,1))"
   ]
  },
  {
   "cell_type": "markdown",
   "metadata": {},
   "source": [
    "Application du modèle de vectorisation `Count` et affichage du nombre de mots dans le vocabulaire."
   ]
  },
  {
   "cell_type": "code",
   "execution_count": 10,
   "metadata": {},
   "outputs": [
    {
     "data": {
      "text/plain": [
       "57990"
      ]
     },
     "execution_count": 10,
     "metadata": {},
     "output_type": "execute_result"
    }
   ],
   "source": [
    "vectorizerCount.fit(data_clean[\"description_clean\"])\n",
    "data_count = vectorizerCount.transform(data_clean[\"description_clean\"])\n",
    "dic_vocabulary_Count = vectorizerCount.vocabulary_\n",
    "len(dic_vocabulary_Count)"
   ]
  },
  {
   "cell_type": "markdown",
   "metadata": {},
   "source": [
    " ### Vectorizer TF-IDF"
   ]
  },
  {
   "cell_type": "markdown",
   "metadata": {},
   "source": [
    "La méthode `TF-IDF` semble plus adéquate pour notre application et permet de pallier au problème précédent."
   ]
  },
  {
   "cell_type": "code",
   "execution_count": 11,
   "metadata": {},
   "outputs": [],
   "source": [
    "## Tf-Idf (advanced variant of BoW)\n",
    "vectorizerTfidf = feature_extraction.text.TfidfVectorizer(ngram_range=(1,1))"
   ]
  },
  {
   "cell_type": "markdown",
   "metadata": {},
   "source": [
    "Application du modèle de vectorisation `TF-IDF` et affichage du nombre de mots dans le vocabulaire."
   ]
  },
  {
   "cell_type": "code",
   "execution_count": 12,
   "metadata": {},
   "outputs": [
    {
     "data": {
      "text/plain": [
       "57990"
      ]
     },
     "execution_count": 12,
     "metadata": {},
     "output_type": "execute_result"
    }
   ],
   "source": [
    "vectorizerTfidf.fit(data_clean[\"description_clean\"])\n",
    "data_Tfidf = vectorizerTfidf.transform(data_clean[\"description_clean\"])\n",
    "dic_vocabulary_Tfidf = vectorizerTfidf.vocabulary_\n",
    "len(dic_vocabulary_Tfidf)"
   ]
  },
  {
   "cell_type": "markdown",
   "metadata": {},
   "source": [
    "## Sélection des features avec la reduction de dimension (SVD/LSA)"
   ]
  },
  {
   "cell_type": "markdown",
   "metadata": {},
   "source": [
    "Puisque que la vectorization de nos documents nous renvoie des matrices creuses (matrice avec des valeurs \"éparpillées\"), il est plus judicieux d'utiliser la **réduction de dimension SVD** (ou LSA) avec l'algorithme `TruncatedSVD`. Cette réduction de la dimension linéaire est réalisée à partir d'une décomposition des valeurs singulières tronquées (SVD en anglais). Cette reduction est similaire à la PCA mais contrairement à celle-ci, l'estimateur ne centre pas les données avant de calculer la décomposition en valeur singulière. Cela signifie qu'il peut travailler efficacement avec des matrices creuses.\n",
    "\n",
    "De plus, d'après la documentation\n",
    "> In particular, truncated SVD works on term count/tf-idf matrices as returned by the vectorizers in sklearn.feature_extraction.text. In that context, it is known as latent semantic analysis (LSA).\n",
    "\n",
    "Documentation : [TruncatedSVD](https://scikit-learn.org/stable/modules/generated/sklearn.decomposition.TruncatedSVD.html)"
   ]
  },
  {
   "cell_type": "markdown",
   "metadata": {},
   "source": [
    "### Application du SVD pour le vectorizer Count"
   ]
  },
  {
   "cell_type": "markdown",
   "metadata": {},
   "source": [
    "Nous utilisons les parametres par défaut, recommandés par la documentation"
   ]
  },
  {
   "cell_type": "code",
   "execution_count": 13,
   "metadata": {},
   "outputs": [
    {
     "name": "stdout",
     "output_type": "stream",
     "text": [
      "Taille du vocabulaire : 21719\n"
     ]
    }
   ],
   "source": [
    "y = data_clean[\"Category\"]\n",
    "X_features_count = vectorizerCount.get_feature_names()\n",
    "\n",
    "# Dimensionality reduction\n",
    "svd = TruncatedSVD(n_components=100, random_state=0)\n",
    "X_features_count = svd.fit_transform(data_count)\n",
    "\n",
    "print('Taille du vocabulaire :', len(X_features_count))"
   ]
  },
  {
   "cell_type": "markdown",
   "metadata": {},
   "source": [
    "Regardons le pourcentage de la variance expliquée. La variance expliquée par la variable X est égale à la variance inter divisée par la variance globale de Y. La variance expliquée est une mesure du lien entre le facteur X et la mesure numérique Y, pour **évaluer comment Y dépend du fait d'appartenir à une sous-population ou à une autre** :\n",
    "\n",
    "- Si la variance expliquée est égale ou se rapproche de 1, la variance intra vaut 0 ce qui entraîne que toutes les variances conditionnelles sont nulles par conséquent, les individus de chaque sous-population ont tous la même mesure Y.\n",
    "- Si la variance expliquée est égale ou se rapproche de 0, la variance inter est nulle ce qui revient à dire que les moyennes conditionnelles de Y sont identiques : Y donne globalement les mêmes mesures sur toutes les sous-populations (attention X et Y sont pas indépendantes)"
   ]
  },
  {
   "cell_type": "code",
   "execution_count": 14,
   "metadata": {},
   "outputs": [
    {
     "name": "stdout",
     "output_type": "stream",
     "text": [
      "Pourcentage variance expliquée: 0.32\n"
     ]
    }
   ],
   "source": [
    "print(f\"Pourcentage variance expliquée: {np.sum(svd.explained_variance_ratio_):.2f}\")"
   ]
  },
  {
   "cell_type": "markdown",
   "metadata": {},
   "source": [
    "Notre nouvelle représentation n'exprime qu'un faible pourcentage de la variance expliquée. Le choix du nombre de composantes qui couvrent le nouvel espace est généralement une question de quantité de variance expliquée souhaitée (et qui varie d'une application à l'autre). Pour la production, il serait interessant d'obtenir un **pourcentage de la variance expliquée plus important**."
   ]
  },
  {
   "cell_type": "markdown",
   "metadata": {},
   "source": [
    "Nous pouvons visualiser quelques features (même si il n'en ressort pas grand chose de pertinent)"
   ]
  },
  {
   "cell_type": "code",
   "execution_count": 15,
   "metadata": {},
   "outputs": [
    {
     "data": {
      "image/png": "[encoded data removed]",
      "text/plain": [
       "<Figure size 432x288 with 4 Axes>"
      ]
     },
     "metadata": {
      "needs_background": "light"
     },
     "output_type": "display_data"
    }
   ],
   "source": [
    "plt.subplot(221)\n",
    "plt.scatter(X_features_count[:,0], X_features_count[:,1], c=y, s=5) \n",
    "\n",
    "plt.subplot(222)\n",
    "plt.scatter(X_features_count[:,1], X_features_count[:,2], c=y, s=5) \n",
    "\n",
    "plt.subplot(223)\n",
    "plt.scatter(X_features_count[:,3], X_features_count[:,4], c=y, s=5) \n",
    "\n",
    "plt.subplot(224)\n",
    "plt.scatter(X_features_count[:,4], X_features_count[:,5], c=y, s=5) \n",
    "plt.show()"
   ]
  },
  {
   "cell_type": "markdown",
   "metadata": {},
   "source": [
    "### Application du SVD pour le vectorizer TF-IDF\n",
    "\n",
    "Réalisons la même application que précédement avec le vectorizer TF-IDF"
   ]
  },
  {
   "cell_type": "code",
   "execution_count": 16,
   "metadata": {},
   "outputs": [
    {
     "name": "stdout",
     "output_type": "stream",
     "text": [
      "Taille du vocabulaire : 21719\n",
      "Total variance explained: 0.14\n"
     ]
    }
   ],
   "source": [
    "y = data_clean[\"Category\"]\n",
    "X_features_Tfidf = vectorizerTfidf.get_feature_names()\n",
    "\n",
    "# Dimensionality reduction\n",
    "svd = TruncatedSVD(n_components=100, random_state=42)\n",
    "X_features_Tfidf = svd.fit_transform(data_Tfidf)\n",
    "\n",
    "print('Taille du vocabulaire :', len(X_features_count))\n",
    "print(f\"Total variance explained: {np.sum(svd.explained_variance_ratio_):.2f}\")"
   ]
  },
  {
   "cell_type": "markdown",
   "metadata": {},
   "source": [
    "Nous pouvons de même visualiser quelques features :"
   ]
  },
  {
   "cell_type": "code",
   "execution_count": 17,
   "metadata": {},
   "outputs": [
    {
     "data": {
      "image/png": "[encoded data removed]",
      "text/plain": [
       "<Figure size 432x288 with 4 Axes>"
      ]
     },
     "metadata": {
      "needs_background": "light"
     },
     "output_type": "display_data"
    }
   ],
   "source": [
    "plt.subplot(221)\n",
    "plt.scatter(X_features_Tfidf[:,0], X_features_Tfidf[:,1], c=y, s=5) \n",
    "\n",
    "plt.subplot(222)\n",
    "plt.scatter(X_features_Tfidf[:,1], X_features_Tfidf[:,2], c=y, s=5) \n",
    "\n",
    "plt.subplot(223)\n",
    "plt.scatter(X_features_Tfidf[:,3], X_features_Tfidf[:,4], c=y, s=5) \n",
    "\n",
    "plt.subplot(224)\n",
    "plt.scatter(X_features_Tfidf[:,4], X_features_Tfidf[:,5], c=y, s=5) \n",
    "plt.show()"
   ]
  },
  {
   "cell_type": "markdown",
   "metadata": {},
   "source": [
    "## Séparation du dataset en train et test"
   ]
  },
  {
   "cell_type": "markdown",
   "metadata": {},
   "source": [
    "### Vectorizer Count"
   ]
  },
  {
   "cell_type": "code",
   "execution_count": 18,
   "metadata": {},
   "outputs": [],
   "source": [
    "X_count_train, X_count_test, y_count_train, y_count_test = train_test_split(X_features_count, y, test_size=0.2, random_state=211101)"
   ]
  },
  {
   "cell_type": "markdown",
   "metadata": {},
   "source": [
    "### Vectorizer TF-IDF"
   ]
  },
  {
   "cell_type": "markdown",
   "metadata": {},
   "source": [
    " "
   ]
  },
  {
   "cell_type": "code",
   "execution_count": 19,
   "metadata": {},
   "outputs": [],
   "source": [
    "X_Tfidf_train, X_Tfidf_test, y_Tfidf_train, y_Tfidf_test = train_test_split(X_features_Tfidf, y, test_size=0.2, random_state=211101)"
   ]
  },
  {
   "cell_type": "markdown",
   "metadata": {},
   "source": [
    "## Entrainement des modèles de machine learning"
   ]
  },
  {
   "cell_type": "markdown",
   "metadata": {},
   "source": [
    "Pour l'ensemble des modèles choisis, on réalise une pipeline permettant de tester et d'évaluer les modèles en fonction d'une combinaison d'hyperparamètres.  \n",
    "\n",
    "Les deux méthodes suivantes permettent d'afficher les résultats de façon générale pour chaque modèle."
   ]
  },
  {
   "cell_type": "markdown",
   "metadata": {},
   "source": [
    "### Création d'une fonction pour étudier les résultats du modèle entrainé"
   ]
  },
  {
   "cell_type": "code",
   "execution_count": 20,
   "metadata": {},
   "outputs": [],
   "source": [
    "'''\n",
    "Affichage des résultats du modèle entrainé\n",
    ":parameter\n",
    "    :param model: Le modèle entrainé\n",
    "    :param X_train: Le dataset d'entrée train\n",
    "    :param y_train: Le dataset de sortie train\n",
    "    :param X_test: Le dataset d'entrée test\n",
    "    :param y_test: Le dataset de sortie train\n",
    "'''\n",
    "def display_stats_model_trained(model, X_train, y_train, X_test, y_test, display_graphics):\n",
    "\n",
    "    ## Accuracy train and test, Precision, Recall\n",
    "    #auc = metrics.roc_auc_score(y_test, predicted_prob)\n",
    "    print(\"Accuracy:\")\n",
    "    print(\"\\rTrain: \", model.score(X_train, y_train))\n",
    "    print(\"\\rTest: \", model.score(X_test, y_test))\n",
    "    #print(\"Area under the curve (Auc): \", auc)\n",
    "    print(\"\")\n",
    "    \n",
    "    # Get predictions\n",
    "    predicted = model.predict(X_test)\n",
    "    predicted_prob = model.predict_proba(X_test)\n",
    "    \n",
    "    if display_graphics == True:\n",
    "        # Get dataset test categories\n",
    "        classes = np.unique(y_test)\n",
    "        y_test_array = pd.get_dummies(y_test, drop_first=False).values\n",
    "        print(\"Detail:\")\n",
    "        print(metrics.classification_report(y_test, predicted))\n",
    "\n",
    "        ## Plot confusion matrix\n",
    "        cm = metrics.confusion_matrix(y_test, predicted)\n",
    "        fig, ax = plt.subplots(figsize=(10,10))\n",
    "        sns.heatmap(cm, annot=True, fmt='d', ax=ax, cmap=plt.cm.Blues, cbar=False)\n",
    "        ax.set(xlabel=\"Pred\", ylabel=\"True\", xticklabels=classes, yticklabels=classes, title=\"Confusion matrix\")\n",
    "        plt.yticks(rotation=0)\n",
    "\n",
    "        fig, ax = plt.subplots(nrows=1, ncols=2, figsize=(20,10))\n",
    "\n",
    "        ## Plot roc\n",
    "        for i in range(len(classes)):\n",
    "            fpr, tpr, thresholds = metrics.roc_curve(y_test_array[:,i], predicted_prob[:,i])\n",
    "            ax[0].plot(fpr, tpr, lw=3, label='{0} (area={1:0.2f})'.format(classes[i], metrics.auc(fpr, tpr)))\n",
    "        ax[0].plot([0,1], [0,1], color='navy', lw=3, linestyle='--')\n",
    "        ax[0].set(xlim=[-0.05,1.0], ylim=[0.0,1.05], \n",
    "                  xlabel='False Positive Rate', \n",
    "                  ylabel=\"True Positive Rate (Recall)\", \n",
    "                  title=\"Receiver operating characteristic\")\n",
    "        ax[0].legend(loc=\"lower right\")\n",
    "        ax[0].grid(True)\n",
    "\n",
    "        ## Plot precision-recall curve\n",
    "        for i in range(len(classes)):\n",
    "            precision, recall, thresholds = metrics.precision_recall_curve(\n",
    "                         y_test_array[:,i], predicted_prob[:,i])\n",
    "            ax[1].plot(recall, precision, lw=3, label='{0} (area={1:0.2f})'.format(classes[i],  metrics.auc(recall, precision)))\n",
    "        ax[1].set(xlim=[0.0,1.05], ylim=[0.0,1.05], xlabel='Recall', ylabel=\"Precision\", title=\"Precision-Recall curve\")\n",
    "        ax[1].legend(loc=\"best\")\n",
    "        ax[1].grid(True)\n",
    "        plt.show()"
   ]
  },
  {
   "cell_type": "markdown",
   "metadata": {},
   "source": [
    " "
   ]
  },
  {
   "cell_type": "markdown",
   "metadata": {},
   "source": [
    "Définitions utilisées pour comprendre la précision et le rappel :  \n",
    "\n",
    "**Precision** : What proportion of positive identifications was actually correct?  \n",
    "**Recall**: What proportion of actual positives was identified correctly?"
   ]
  },
  {
   "cell_type": "markdown",
   "metadata": {},
   "source": [
    " "
   ]
  },
  {
   "cell_type": "markdown",
   "metadata": {},
   "source": [
    "### Création d'une fonction pour obtenir et afficher les résultats de la pipeline"
   ]
  },
  {
   "cell_type": "code",
   "execution_count": 21,
   "metadata": {},
   "outputs": [],
   "source": [
    "def train_and_display_pipeline_results(model_grid, X_train, y_train, X_test, y_test):\n",
    "    print('Train Accuracy Best Estimator : ', model_grid.best_estimator_.score(X_train, y_train))\n",
    "    print('Test Accuracy Best Estimator : ', model_grid.best_estimator_.score(X_test, y_test))\n",
    "    print('Best Accuracy Through Grid Search : ', model_grid.best_score_)\n",
    "    print('Best Parameters : ',model_grid.best_params_)\n",
    "    "
   ]
  },
  {
   "cell_type": "markdown",
   "metadata": {},
   "source": [
    "### Entrainement du modèle avec la famille d'algortihmes Naive Bayes"
   ]
  },
  {
   "cell_type": "markdown",
   "metadata": {},
   "source": [
    "Il n'est pas possible d'appliquer une classification Naive Bayes après une reduction de dimension SVD, semblable  à la PCA. En effet, le classifieur NB a besoin de features avec **valeurs discrètes et positive** (la reduction de dimension de type PCA ne respecte pas cette propriété)."
   ]
  },
  {
   "cell_type": "markdown",
   "metadata": {},
   "source": [
    "### Entrainement du modèle avec le classifier Random Forest"
   ]
  },
  {
   "cell_type": "markdown",
   "metadata": {},
   "source": [
    "##### Avec le vectorizer Count"
   ]
  },
  {
   "cell_type": "code",
   "execution_count": 22,
   "metadata": {},
   "outputs": [
    {
     "name": "stdout",
     "output_type": "stream",
     "text": [
      "Fitting 5 folds for each of 12 candidates, totalling 60 fits\n"
     ]
    },
    {
     "name": "stderr",
     "output_type": "stream",
     "text": [
      "[Parallel(n_jobs=-1)]: Using backend LokyBackend with 12 concurrent workers.\n"
     ]
    },
    {
     "ename": "KeyboardInterrupt",
     "evalue": "",
     "output_type": "error",
     "traceback": [
      "\u001b[1;31m---------------------------------------------------------------------------\u001b[0m",
      "\u001b[1;31mKeyboardInterrupt\u001b[0m                         Traceback (most recent call last)",
      "\u001b[1;32m<ipython-input-22-6452e7755062>\u001b[0m in \u001b[0;36m<module>\u001b[1;34m\u001b[0m\n\u001b[0;32m      8\u001b[0m \u001b[1;33m\u001b[0m\u001b[0m\n\u001b[0;32m      9\u001b[0m \u001b[0mrandomForest_count_Grid\u001b[0m \u001b[1;33m=\u001b[0m \u001b[0mGridSearchCV\u001b[0m\u001b[1;33m(\u001b[0m\u001b[0mrandomForest_count\u001b[0m\u001b[1;33m,\u001b[0m \u001b[0mparam_grid\u001b[0m\u001b[1;33m=\u001b[0m\u001b[0mparams\u001b[0m\u001b[1;33m,\u001b[0m \u001b[0mn_jobs\u001b[0m\u001b[1;33m=\u001b[0m\u001b[1;33m-\u001b[0m\u001b[1;36m1\u001b[0m\u001b[1;33m,\u001b[0m \u001b[0mcv\u001b[0m\u001b[1;33m=\u001b[0m\u001b[1;36m5\u001b[0m\u001b[1;33m,\u001b[0m \u001b[0mverbose\u001b[0m\u001b[1;33m=\u001b[0m\u001b[1;36m5\u001b[0m\u001b[1;33m)\u001b[0m\u001b[1;33m\u001b[0m\u001b[1;33m\u001b[0m\u001b[0m\n\u001b[1;32m---> 10\u001b[1;33m \u001b[0mrandomForest_count_Grid\u001b[0m\u001b[1;33m.\u001b[0m\u001b[0mfit\u001b[0m\u001b[1;33m(\u001b[0m\u001b[0mX_count_train\u001b[0m\u001b[1;33m,\u001b[0m \u001b[0my_count_train\u001b[0m\u001b[1;33m)\u001b[0m\u001b[1;33m\u001b[0m\u001b[1;33m\u001b[0m\u001b[0m\n\u001b[0m\u001b[0;32m     11\u001b[0m \u001b[1;33m\u001b[0m\u001b[0m\n\u001b[0;32m     12\u001b[0m \u001b[0mtrain_and_display_pipeline_results\u001b[0m\u001b[1;33m(\u001b[0m\u001b[0mrandomForest_count_Grid\u001b[0m\u001b[1;33m,\u001b[0m \u001b[0mX_count_train\u001b[0m\u001b[1;33m,\u001b[0m \u001b[0my_count_train\u001b[0m\u001b[1;33m,\u001b[0m \u001b[0mX_count_test\u001b[0m\u001b[1;33m,\u001b[0m \u001b[0my_count_test\u001b[0m\u001b[1;33m)\u001b[0m\u001b[1;33m\u001b[0m\u001b[1;33m\u001b[0m\u001b[0m\n",
      "\u001b[1;32mc:\\users\\cedri\\appdata\\local\\programs\\python\\python38\\lib\\site-packages\\sklearn\\model_selection\\_search.py\u001b[0m in \u001b[0;36mfit\u001b[1;34m(self, X, y, groups, **fit_params)\u001b[0m\n\u001b[0;32m    708\u001b[0m                 \u001b[1;32mreturn\u001b[0m \u001b[0mresults\u001b[0m\u001b[1;33m\u001b[0m\u001b[1;33m\u001b[0m\u001b[0m\n\u001b[0;32m    709\u001b[0m \u001b[1;33m\u001b[0m\u001b[0m\n\u001b[1;32m--> 710\u001b[1;33m             \u001b[0mself\u001b[0m\u001b[1;33m.\u001b[0m\u001b[0m_run_search\u001b[0m\u001b[1;33m(\u001b[0m\u001b[0mevaluate_candidates\u001b[0m\u001b[1;33m)\u001b[0m\u001b[1;33m\u001b[0m\u001b[1;33m\u001b[0m\u001b[0m\n\u001b[0m\u001b[0;32m    711\u001b[0m \u001b[1;33m\u001b[0m\u001b[0m\n\u001b[0;32m    712\u001b[0m         \u001b[1;31m# For multi-metric evaluation, store the best_index_, best_params_ and\u001b[0m\u001b[1;33m\u001b[0m\u001b[1;33m\u001b[0m\u001b[1;33m\u001b[0m\u001b[0m\n",
      "\u001b[1;32mc:\\users\\cedri\\appdata\\local\\programs\\python\\python38\\lib\\site-packages\\sklearn\\model_selection\\_search.py\u001b[0m in \u001b[0;36m_run_search\u001b[1;34m(self, evaluate_candidates)\u001b[0m\n\u001b[0;32m   1149\u001b[0m     \u001b[1;32mdef\u001b[0m \u001b[0m_run_search\u001b[0m\u001b[1;33m(\u001b[0m\u001b[0mself\u001b[0m\u001b[1;33m,\u001b[0m \u001b[0mevaluate_candidates\u001b[0m\u001b[1;33m)\u001b[0m\u001b[1;33m:\u001b[0m\u001b[1;33m\u001b[0m\u001b[1;33m\u001b[0m\u001b[0m\n\u001b[0;32m   1150\u001b[0m         \u001b[1;34m\"\"\"Search all candidates in param_grid\"\"\"\u001b[0m\u001b[1;33m\u001b[0m\u001b[1;33m\u001b[0m\u001b[0m\n\u001b[1;32m-> 1151\u001b[1;33m         \u001b[0mevaluate_candidates\u001b[0m\u001b[1;33m(\u001b[0m\u001b[0mParameterGrid\u001b[0m\u001b[1;33m(\u001b[0m\u001b[0mself\u001b[0m\u001b[1;33m.\u001b[0m\u001b[0mparam_grid\u001b[0m\u001b[1;33m)\u001b[0m\u001b[1;33m)\u001b[0m\u001b[1;33m\u001b[0m\u001b[1;33m\u001b[0m\u001b[0m\n\u001b[0m\u001b[0;32m   1152\u001b[0m \u001b[1;33m\u001b[0m\u001b[0m\n\u001b[0;32m   1153\u001b[0m \u001b[1;33m\u001b[0m\u001b[0m\n",
      "\u001b[1;32mc:\\users\\cedri\\appdata\\local\\programs\\python\\python38\\lib\\site-packages\\sklearn\\model_selection\\_search.py\u001b[0m in \u001b[0;36mevaluate_candidates\u001b[1;34m(candidate_params)\u001b[0m\n\u001b[0;32m    680\u001b[0m                               n_splits, n_candidates, n_candidates * n_splits))\n\u001b[0;32m    681\u001b[0m \u001b[1;33m\u001b[0m\u001b[0m\n\u001b[1;32m--> 682\u001b[1;33m                 out = parallel(delayed(_fit_and_score)(clone(base_estimator),\n\u001b[0m\u001b[0;32m    683\u001b[0m                                                        \u001b[0mX\u001b[0m\u001b[1;33m,\u001b[0m \u001b[0my\u001b[0m\u001b[1;33m,\u001b[0m\u001b[1;33m\u001b[0m\u001b[1;33m\u001b[0m\u001b[0m\n\u001b[0;32m    684\u001b[0m                                                        \u001b[0mtrain\u001b[0m\u001b[1;33m=\u001b[0m\u001b[0mtrain\u001b[0m\u001b[1;33m,\u001b[0m \u001b[0mtest\u001b[0m\u001b[1;33m=\u001b[0m\u001b[0mtest\u001b[0m\u001b[1;33m,\u001b[0m\u001b[1;33m\u001b[0m\u001b[1;33m\u001b[0m\u001b[0m\n",
      "\u001b[1;32mc:\\users\\cedri\\appdata\\local\\programs\\python\\python38\\lib\\site-packages\\joblib\\parallel.py\u001b[0m in \u001b[0;36m__call__\u001b[1;34m(self, iterable)\u001b[0m\n\u001b[0;32m   1015\u001b[0m \u001b[1;33m\u001b[0m\u001b[0m\n\u001b[0;32m   1016\u001b[0m             \u001b[1;32mwith\u001b[0m \u001b[0mself\u001b[0m\u001b[1;33m.\u001b[0m\u001b[0m_backend\u001b[0m\u001b[1;33m.\u001b[0m\u001b[0mretrieval_context\u001b[0m\u001b[1;33m(\u001b[0m\u001b[1;33m)\u001b[0m\u001b[1;33m:\u001b[0m\u001b[1;33m\u001b[0m\u001b[1;33m\u001b[0m\u001b[0m\n\u001b[1;32m-> 1017\u001b[1;33m                 \u001b[0mself\u001b[0m\u001b[1;33m.\u001b[0m\u001b[0mretrieve\u001b[0m\u001b[1;33m(\u001b[0m\u001b[1;33m)\u001b[0m\u001b[1;33m\u001b[0m\u001b[1;33m\u001b[0m\u001b[0m\n\u001b[0m\u001b[0;32m   1018\u001b[0m             \u001b[1;31m# Make sure that we get a last message telling us we are done\u001b[0m\u001b[1;33m\u001b[0m\u001b[1;33m\u001b[0m\u001b[1;33m\u001b[0m\u001b[0m\n\u001b[0;32m   1019\u001b[0m             \u001b[0melapsed_time\u001b[0m \u001b[1;33m=\u001b[0m \u001b[0mtime\u001b[0m\u001b[1;33m.\u001b[0m\u001b[0mtime\u001b[0m\u001b[1;33m(\u001b[0m\u001b[1;33m)\u001b[0m \u001b[1;33m-\u001b[0m \u001b[0mself\u001b[0m\u001b[1;33m.\u001b[0m\u001b[0m_start_time\u001b[0m\u001b[1;33m\u001b[0m\u001b[1;33m\u001b[0m\u001b[0m\n",
      "\u001b[1;32mc:\\users\\cedri\\appdata\\local\\programs\\python\\python38\\lib\\site-packages\\joblib\\parallel.py\u001b[0m in \u001b[0;36mretrieve\u001b[1;34m(self)\u001b[0m\n\u001b[0;32m    907\u001b[0m             \u001b[1;32mtry\u001b[0m\u001b[1;33m:\u001b[0m\u001b[1;33m\u001b[0m\u001b[1;33m\u001b[0m\u001b[0m\n\u001b[0;32m    908\u001b[0m                 \u001b[1;32mif\u001b[0m \u001b[0mgetattr\u001b[0m\u001b[1;33m(\u001b[0m\u001b[0mself\u001b[0m\u001b[1;33m.\u001b[0m\u001b[0m_backend\u001b[0m\u001b[1;33m,\u001b[0m \u001b[1;34m'supports_timeout'\u001b[0m\u001b[1;33m,\u001b[0m \u001b[1;32mFalse\u001b[0m\u001b[1;33m)\u001b[0m\u001b[1;33m:\u001b[0m\u001b[1;33m\u001b[0m\u001b[1;33m\u001b[0m\u001b[0m\n\u001b[1;32m--> 909\u001b[1;33m                     \u001b[0mself\u001b[0m\u001b[1;33m.\u001b[0m\u001b[0m_output\u001b[0m\u001b[1;33m.\u001b[0m\u001b[0mextend\u001b[0m\u001b[1;33m(\u001b[0m\u001b[0mjob\u001b[0m\u001b[1;33m.\u001b[0m\u001b[0mget\u001b[0m\u001b[1;33m(\u001b[0m\u001b[0mtimeout\u001b[0m\u001b[1;33m=\u001b[0m\u001b[0mself\u001b[0m\u001b[1;33m.\u001b[0m\u001b[0mtimeout\u001b[0m\u001b[1;33m)\u001b[0m\u001b[1;33m)\u001b[0m\u001b[1;33m\u001b[0m\u001b[1;33m\u001b[0m\u001b[0m\n\u001b[0m\u001b[0;32m    910\u001b[0m                 \u001b[1;32melse\u001b[0m\u001b[1;33m:\u001b[0m\u001b[1;33m\u001b[0m\u001b[1;33m\u001b[0m\u001b[0m\n\u001b[0;32m    911\u001b[0m                     \u001b[0mself\u001b[0m\u001b[1;33m.\u001b[0m\u001b[0m_output\u001b[0m\u001b[1;33m.\u001b[0m\u001b[0mextend\u001b[0m\u001b[1;33m(\u001b[0m\u001b[0mjob\u001b[0m\u001b[1;33m.\u001b[0m\u001b[0mget\u001b[0m\u001b[1;33m(\u001b[0m\u001b[1;33m)\u001b[0m\u001b[1;33m)\u001b[0m\u001b[1;33m\u001b[0m\u001b[1;33m\u001b[0m\u001b[0m\n",
      "\u001b[1;32mc:\\users\\cedri\\appdata\\local\\programs\\python\\python38\\lib\\site-packages\\joblib\\_parallel_backends.py\u001b[0m in \u001b[0;36mwrap_future_result\u001b[1;34m(future, timeout)\u001b[0m\n\u001b[0;32m    560\u001b[0m         AsyncResults.get from multiprocessing.\"\"\"\n\u001b[0;32m    561\u001b[0m         \u001b[1;32mtry\u001b[0m\u001b[1;33m:\u001b[0m\u001b[1;33m\u001b[0m\u001b[1;33m\u001b[0m\u001b[0m\n\u001b[1;32m--> 562\u001b[1;33m             \u001b[1;32mreturn\u001b[0m \u001b[0mfuture\u001b[0m\u001b[1;33m.\u001b[0m\u001b[0mresult\u001b[0m\u001b[1;33m(\u001b[0m\u001b[0mtimeout\u001b[0m\u001b[1;33m=\u001b[0m\u001b[0mtimeout\u001b[0m\u001b[1;33m)\u001b[0m\u001b[1;33m\u001b[0m\u001b[1;33m\u001b[0m\u001b[0m\n\u001b[0m\u001b[0;32m    563\u001b[0m         \u001b[1;32mexcept\u001b[0m \u001b[0mLokyTimeoutError\u001b[0m\u001b[1;33m:\u001b[0m\u001b[1;33m\u001b[0m\u001b[1;33m\u001b[0m\u001b[0m\n\u001b[0;32m    564\u001b[0m             \u001b[1;32mraise\u001b[0m \u001b[0mTimeoutError\u001b[0m\u001b[1;33m(\u001b[0m\u001b[1;33m)\u001b[0m\u001b[1;33m\u001b[0m\u001b[1;33m\u001b[0m\u001b[0m\n",
      "\u001b[1;32mc:\\users\\cedri\\appdata\\local\\programs\\python\\python38\\lib\\concurrent\\futures\\_base.py\u001b[0m in \u001b[0;36mresult\u001b[1;34m(self, timeout)\u001b[0m\n\u001b[0;32m    432\u001b[0m                 \u001b[1;32mreturn\u001b[0m \u001b[0mself\u001b[0m\u001b[1;33m.\u001b[0m\u001b[0m__get_result\u001b[0m\u001b[1;33m(\u001b[0m\u001b[1;33m)\u001b[0m\u001b[1;33m\u001b[0m\u001b[1;33m\u001b[0m\u001b[0m\n\u001b[0;32m    433\u001b[0m \u001b[1;33m\u001b[0m\u001b[0m\n\u001b[1;32m--> 434\u001b[1;33m             \u001b[0mself\u001b[0m\u001b[1;33m.\u001b[0m\u001b[0m_condition\u001b[0m\u001b[1;33m.\u001b[0m\u001b[0mwait\u001b[0m\u001b[1;33m(\u001b[0m\u001b[0mtimeout\u001b[0m\u001b[1;33m)\u001b[0m\u001b[1;33m\u001b[0m\u001b[1;33m\u001b[0m\u001b[0m\n\u001b[0m\u001b[0;32m    435\u001b[0m \u001b[1;33m\u001b[0m\u001b[0m\n\u001b[0;32m    436\u001b[0m             \u001b[1;32mif\u001b[0m \u001b[0mself\u001b[0m\u001b[1;33m.\u001b[0m\u001b[0m_state\u001b[0m \u001b[1;32min\u001b[0m \u001b[1;33m[\u001b[0m\u001b[0mCANCELLED\u001b[0m\u001b[1;33m,\u001b[0m \u001b[0mCANCELLED_AND_NOTIFIED\u001b[0m\u001b[1;33m]\u001b[0m\u001b[1;33m:\u001b[0m\u001b[1;33m\u001b[0m\u001b[1;33m\u001b[0m\u001b[0m\n",
      "\u001b[1;32mc:\\users\\cedri\\appdata\\local\\programs\\python\\python38\\lib\\threading.py\u001b[0m in \u001b[0;36mwait\u001b[1;34m(self, timeout)\u001b[0m\n\u001b[0;32m    300\u001b[0m         \u001b[1;32mtry\u001b[0m\u001b[1;33m:\u001b[0m    \u001b[1;31m# restore state no matter what (e.g., KeyboardInterrupt)\u001b[0m\u001b[1;33m\u001b[0m\u001b[1;33m\u001b[0m\u001b[0m\n\u001b[0;32m    301\u001b[0m             \u001b[1;32mif\u001b[0m \u001b[0mtimeout\u001b[0m \u001b[1;32mis\u001b[0m \u001b[1;32mNone\u001b[0m\u001b[1;33m:\u001b[0m\u001b[1;33m\u001b[0m\u001b[1;33m\u001b[0m\u001b[0m\n\u001b[1;32m--> 302\u001b[1;33m                 \u001b[0mwaiter\u001b[0m\u001b[1;33m.\u001b[0m\u001b[0macquire\u001b[0m\u001b[1;33m(\u001b[0m\u001b[1;33m)\u001b[0m\u001b[1;33m\u001b[0m\u001b[1;33m\u001b[0m\u001b[0m\n\u001b[0m\u001b[0;32m    303\u001b[0m                 \u001b[0mgotit\u001b[0m \u001b[1;33m=\u001b[0m \u001b[1;32mTrue\u001b[0m\u001b[1;33m\u001b[0m\u001b[1;33m\u001b[0m\u001b[0m\n\u001b[0;32m    304\u001b[0m             \u001b[1;32melse\u001b[0m\u001b[1;33m:\u001b[0m\u001b[1;33m\u001b[0m\u001b[1;33m\u001b[0m\u001b[0m\n",
      "\u001b[1;31mKeyboardInterrupt\u001b[0m: "
     ]
    }
   ],
   "source": [
    "randomForest_count= RandomForestClassifier()\n",
    "\n",
    "params = {\n",
    "        'n_estimators': [100, 500],\n",
    "        'max_features': ['auto', 'sqrt', 'log2'],\n",
    "        'max_depth': [100, 500]\n",
    "         }\n",
    "\n",
    "randomForest_count_Grid = GridSearchCV(randomForest_count, param_grid=params, n_jobs=-1, cv=5, verbose=5)\n",
    "randomForest_count_Grid.fit(X_count_train, y_count_train)\n",
    "\n",
    "train_and_display_pipeline_results(randomForest_count_Grid, X_count_train, y_count_train, X_count_test, y_count_test)"
   ]
  },
  {
   "cell_type": "markdown",
   "metadata": {},
   "source": [
    "##### Avec le vectorizer TF-IDF"
   ]
  },
  {
   "cell_type": "code",
   "execution_count": null,
   "metadata": {},
   "outputs": [],
   "source": [
    "randomForest_Tdidf= RandomForestClassifier()\n",
    "\n",
    "params = {\n",
    "        'n_estimators': [100, 500],\n",
    "        'max_features': ['auto', 'sqrt', 'log2'],\n",
    "        'max_depth': [100, 500]\n",
    "         }\n",
    "\n",
    "randomForest_Tfidf_Grid = GridSearchCV(randomForest_Tdidf, param_grid=params, n_jobs=-1, cv=5, verbose=5)\n",
    "randomForest_Tfidf_Grid.fit(X_Tfidf_train, y_Tfidf_train)\n",
    "\n",
    "train_and_display_pipeline_results(randomForest_Tfidf_Grid, X_Tfidf_train, y_Tfidf_train, X_Tfidf_test, y_Tfidf_test)"
   ]
  },
  {
   "cell_type": "markdown",
   "metadata": {},
   "source": [
    "**TO DO** Afficher avec les meilleurs résultats  \n",
    "\n",
    "On affiche les métriques et graphiques pour ce vectorizer et avec les meilleurs hyperparamètres :"
   ]
  },
  {
   "cell_type": "code",
   "execution_count": null,
   "metadata": {},
   "outputs": [],
   "source": [
    "radom_forest_Tfidf = RandomForestClassifier(max_depth=100, random_state=0)\n",
    "radom_forest_Tfidf.fit(X_Tfidf_train, y_Tfidf_train)\n",
    "\n",
    "display_stats_model_trained(radom_forest_Tfidf, X_Tfidf_train, y_Tfidf_train, X_Tfidf_test, y_Tfidf_test, True)"
   ]
  },
  {
   "cell_type": "markdown",
   "metadata": {},
   "source": [
    "### Entrainement du modèle avec le classifier KNN"
   ]
  },
  {
   "cell_type": "markdown",
   "metadata": {},
   "source": [
    "##### Avec le vectorizer Count"
   ]
  },
  {
   "cell_type": "code",
   "execution_count": null,
   "metadata": {},
   "outputs": [],
   "source": [
    "kNeighbors_count= KNeighborsClassifier()\n",
    "\n",
    "params = {\n",
    "        'n_neighbors': [3, 4, 5],\n",
    "        'weights': ['uniform', 'distance']\n",
    "         }\n",
    "\n",
    "kNeighbors_count_Grid = GridSearchCV(kNeighbors_count, param_grid=params, n_jobs=-1, cv=5, verbose=5)\n",
    "kNeighbors_count_Grid.fit(X_count_train, y_count_train)\n",
    "\n",
    "train_and_display_pipeline_results(kNeighbors_count_Grid, X_count_train, y_count_train, X_count_test, y_count_test)"
   ]
  },
  {
   "cell_type": "markdown",
   "metadata": {},
   "source": [
    "##### Avec le vectorizer TF-IDF"
   ]
  },
  {
   "cell_type": "code",
   "execution_count": null,
   "metadata": {},
   "outputs": [],
   "source": [
    "kNeighbors_Tfidf= KNeighborsClassifier()\n",
    "\n",
    "params = {\n",
    "        'n_neighbors': [3, 4, 5],\n",
    "        'weights': ['uniform', 'distance']\n",
    "         }\n",
    "\n",
    "kNeighbors_Tfidf_Grid = GridSearchCV(kNeighbors_Tfidf, param_grid=params, n_jobs=-1, cv=5, verbose=5)\n",
    "kNeighbors_Tfidf_Grid.fit(X_Tfidf_train, y_Tfidf_train)\n",
    "\n",
    "display_stats_model_trained(radom_forest_Tfidf, X_Tfidf_train, y_Tfidf_train, X_Tfidf_test, y_Tfidf_test)"
   ]
  },
  {
   "cell_type": "markdown",
   "metadata": {},
   "source": [
    "**TO DO** Afficher avec les meilleurs résultats  \n",
    "\n",
    "On affiche les métriques et graphiques pour ce vectorizer et avec les meilleurs hyperparamètres :"
   ]
  },
  {
   "cell_type": "code",
   "execution_count": null,
   "metadata": {},
   "outputs": [],
   "source": [
    "KNN_Tfidf = KNeighborsClassifier(n_neighbors=5, weights='distance')\n",
    "KNN_Tfidf.fit(X_Tfidf_train, y_Tfidf_train)\n",
    "\n",
    "display_stats_model_trained(KNN_Tfidf, X_Tfidf_train, y_Tfidf_train, X_Tfidf_test, y_Tfidf_test, True)"
   ]
  },
  {
   "cell_type": "markdown",
   "metadata": {},
   "source": [
    " "
   ]
  },
  {
   "cell_type": "markdown",
   "metadata": {},
   "source": [
    "### Entrainement du modèle avec le classifier Neural Network"
   ]
  },
  {
   "cell_type": "markdown",
   "metadata": {},
   "source": [
    "Pour des raisons de ressources matérielles à notre disposition, nous n'avons pas pu mettre en place une pipeline pour ce type de classifier. En effet, le nombre d'hyperparamètres étant important, la pipeline prenait un temps trop conséquent. L'étude se fera donc en pas à pas sur ce modèle."
   ]
  },
  {
   "cell_type": "markdown",
   "metadata": {},
   "source": [
    "##### Avec le vectorizer Count"
   ]
  },
  {
   "cell_type": "markdown",
   "metadata": {},
   "source": [
    "On utilise ici le solver `lbgs` qui a pour propriété de converger plus vite. Il est également plus adapté pour des petits datasets de données contrairement aux deux autres `adam` et `sgd`. On commence avec **2 layers de 20 neurones**, un **alpha** correspondant à la pénalisation de **1** et un **maximum d'itération égal à 5000**."
   ]
  },
  {
   "cell_type": "code",
   "execution_count": null,
   "metadata": {},
   "outputs": [],
   "source": [
    "nn_count = MLPClassifier(solver=\"lbfgs\", hidden_layer_sizes=(20,20), alpha=1, activation=\"relu\", max_iter=5000, random_state=0)\n",
    "nn_count.fit(X_count_train, y_count_train)\n",
    "\n",
    "display_stats_model_trained(nn_count, X_count_train, y_count_train, X_count_test, y_count_test, True)"
   ]
  },
  {
   "cell_type": "markdown",
   "metadata": {},
   "source": [
    " "
   ]
  },
  {
   "cell_type": "markdown",
   "metadata": {},
   "source": [
    "##### Avec le vectorizer TF-IDF"
   ]
  },
  {
   "cell_type": "markdown",
   "metadata": {},
   "source": [
    "On reprend les mêmes hyperparamètres pour l'entrainement du modèle basé sur le vectorizer `TF-IDF`."
   ]
  },
  {
   "cell_type": "code",
   "execution_count": null,
   "metadata": {},
   "outputs": [],
   "source": [
    "nn_Tfidf = MLPClassifier(solver=\"lbfgs\", hidden_layer_sizes=(20,20), alpha=1, activation=\"relu\", max_iter=5000, random_state=0)\n",
    "nn_Tfidf.fit(X_Tfidf_train, y_Tfidf_train)\n",
    "\n",
    "display_stats_model_trained(nn_Tfidf, X_Tfidf_train, y_Tfidf_train, X_Tfidf_test, y_Tfidf_test, True)"
   ]
  },
  {
   "cell_type": "markdown",
   "metadata": {},
   "source": [
    "Les deux scores obtenus pour les vectorizers `TF-IDF` et `Count` sont sensiblement les mêmes. Avec les autres algorithmes, on a pu observer que les résultats associés au vectorizer `TF-IDF` étaient meilleurs que ceux de `Count`. Pour la suite, on prendra donc le dataset issue du vectorizer `TF-IDF`.  \n",
    "\n",
    "On note un **overfitting** important du modèle qui est déjà corrigé par le paramètre `alpha`. En effet, nous avons testé pour des valeurs de `alpha` (pénalisation) plus basses et les résultats était très mauvais. "
   ]
  },
  {
   "cell_type": "markdown",
   "metadata": {},
   "source": [
    " "
   ]
  },
  {
   "cell_type": "markdown",
   "metadata": {},
   "source": [
    "##### Avec le vectorizer TF-IDF et un changement des layers"
   ]
  },
  {
   "cell_type": "markdown",
   "metadata": {},
   "source": [
    "A présent, on teste le modèle avec une layer de 50 neurones. Le résultat de test obtenu est meilleur que précédemment."
   ]
  },
  {
   "cell_type": "code",
   "execution_count": null,
   "metadata": {
    "scrolled": true
   },
   "outputs": [],
   "source": [
    "nn_Tfidf = MLPClassifier(solver=\"lbfgs\", hidden_layer_sizes=(50), alpha=1, activation=\"relu\", max_iter=5000, random_state=0)\n",
    "nn_Tfidf.fit(X_Tfidf_train, y_Tfidf_train)\n",
    "\n",
    "display_stats_model_trained(nn_Tfidf, X_Tfidf_train, y_Tfidf_train, X_Tfidf_test, y_Tfidf_test, False)"
   ]
  },
  {
   "cell_type": "markdown",
   "metadata": {},
   "source": [
    " "
   ]
  },
  {
   "cell_type": "markdown",
   "metadata": {},
   "source": [
    "##### Avec le vectorizer TF-IDF et un changement du nombre de neurones pour la layer"
   ]
  },
  {
   "cell_type": "markdown",
   "metadata": {},
   "source": [
    "On augmente le nombre de neurones pour la seule  layer du modèle. Aucune variation du score de test n'est constatée (légère baisse), on abandonne donc cette perspective (testé également pour 150 et 200)."
   ]
  },
  {
   "cell_type": "code",
   "execution_count": null,
   "metadata": {},
   "outputs": [],
   "source": [
    "nn_Tfidf = MLPClassifier(solver=\"lbfgs\", hidden_layer_sizes=(500), alpha=1, activation=\"relu\", max_iter=5000, random_state=0)\n",
    "nn_Tfidf.fit(X_Tfidf_train, y_Tfidf_train)\n",
    "\n",
    "graphics_representation_model(nn_Tfidf, X_Tfidf_train, y_Tfidf_train, X_Tfidf_test, y_Tfidf_test, False)"
   ]
  },
  {
   "cell_type": "markdown",
   "metadata": {},
   "source": [
    " "
   ]
  },
  {
   "cell_type": "markdown",
   "metadata": {},
   "source": [
    "##### Avec le vectorizer TF-IDF et un changement du nombre de neurones pour la layer et du alpha"
   ]
  },
  {
   "cell_type": "markdown",
   "metadata": {},
   "source": [
    "On repasse le nombre de neurones pour la layer à 50 car le résultat était meilleur pour cette valeur. On augmente également la pénalisation qui permet une hausse de la précision des valeurs de test."
   ]
  },
  {
   "cell_type": "code",
   "execution_count": null,
   "metadata": {
    "scrolled": true
   },
   "outputs": [],
   "source": [
    "nn_Tfidf = MLPClassifier(solver=\"lbfgs\", hidden_layer_sizes=(50), alpha=3, activation=\"relu\", max_iter=5000, random_state=0)\n",
    "nn_Tfidf.fit(X_Tfidf_train, y_Tfidf_train)\n",
    "\n",
    "display_stats_model_trained(nn_Tfidf, X_Tfidf_train, y_Tfidf_train, X_Tfidf_test, y_Tfidf_test, True)"
   ]
  },
  {
   "cell_type": "markdown",
   "metadata": {},
   "source": [
    " "
   ]
  },
  {
   "cell_type": "markdown",
   "metadata": {},
   "source": [
    "##### Avec le vectorizer TF-IDF et un changement de la fonction d'activation"
   ]
  },
  {
   "cell_type": "markdown",
   "metadata": {},
   "source": [
    "Après changement de la fonction d'activation de `relu` à `tanh`, le résultat obtenu devient moins précis."
   ]
  },
  {
   "cell_type": "code",
   "execution_count": null,
   "metadata": {
    "scrolled": true
   },
   "outputs": [],
   "source": [
    "nn_Tfidf = MLPClassifier(solver=\"lbfgs\", hidden_layer_sizes=(50), alpha=3, activation=\"tanh\", max_iter=5000, random_state=0)\n",
    "nn_Tfidf.fit(X_Tfidf_train, y_Tfidf_train)\n",
    "\n",
    "graphics_representation_model(nn_Tfidf, X_Tfidf_train, y_Tfidf_train, X_Tfidf_test, y_Tfidf_test, False)"
   ]
  },
  {
   "cell_type": "markdown",
   "metadata": {},
   "source": [
    " "
   ]
  },
  {
   "cell_type": "markdown",
   "metadata": {},
   "source": [
    "##### Avec le vectorizer TF-IDF et de la fonction d'activation"
   ]
  },
  {
   "cell_type": "markdown",
   "metadata": {},
   "source": [
    "Après avoir essayer le fonction d'activation `tanh`, on tente maintement le fonction `logistic`. Il n'y a pas d'améliorations."
   ]
  },
  {
   "cell_type": "code",
   "execution_count": null,
   "metadata": {
    "scrolled": true
   },
   "outputs": [],
   "source": [
    "nn_Tfidf = MLPClassifier(solver=\"lbfgs\", hidden_layer_sizes=(50), alpha=3, activation=\"logistic\", max_iter=1000)\n",
    "nn_Tfidf.fit(X_Tfidf_train, y_Tfidf_train)\n",
    "\n",
    "display_stats_model_trained(nn_Tfidf, X_Tfidf_train, y_Tfidf_train, X_Tfidf_test, y_Tfidf_test, False)"
   ]
  },
  {
   "cell_type": "markdown",
   "metadata": {},
   "source": [
    " "
   ]
  },
  {
   "cell_type": "markdown",
   "metadata": {},
   "source": [
    "##### Avec le vectorizer TF-IDF et changement de la fonction d'activation"
   ]
  },
  {
   "cell_type": "markdown",
   "metadata": {},
   "source": [
    "De même avec la fonction `identity`."
   ]
  },
  {
   "cell_type": "code",
   "execution_count": null,
   "metadata": {
    "scrolled": true
   },
   "outputs": [],
   "source": [
    "nn_Tfidf = MLPClassifier(solver=\"lbfgs\", hidden_layer_sizes=(50), alpha=3, activation=\"identity\", max_iter=1000)\n",
    "nn_Tfidf.fit(X_Tfidf_train, y_Tfidf_train)\n",
    "\n",
    "display_stats_model_trained(nn_Tfidf, X_Tfidf_train, y_Tfidf_train, X_Tfidf_test, y_Tfidf_test, False)"
   ]
  },
  {
   "cell_type": "markdown",
   "metadata": {},
   "source": [
    " "
   ]
  },
  {
   "cell_type": "markdown",
   "metadata": {},
   "source": [
    "##### Avec le vectorizer TF-IDF et changement du learning rate"
   ]
  },
  {
   "cell_type": "markdown",
   "metadata": {},
   "source": [
    "On tente une augmentation de la valeur du `learning_rate`, cependant le score devient moins précis."
   ]
  },
  {
   "cell_type": "code",
   "execution_count": null,
   "metadata": {
    "scrolled": true
   },
   "outputs": [],
   "source": [
    "nn_Tfidf = MLPClassifier(solver=\"lbfgs\", hidden_layer_sizes=(50), alpha=3, activation=\"relu\", max_iter=1000, learning_rate= \"adaptive\")\n",
    "nn_Tfidf.fit(X_Tfidf_train, y_Tfidf_train)\n",
    "\n",
    "display_stats_model_trained(nn_Tfidf, X_Tfidf_train, y_Tfidf_train, X_Tfidf_test, y_Tfidf_test, False)"
   ]
  },
  {
   "cell_type": "markdown",
   "metadata": {},
   "source": [
    " "
   ]
  },
  {
   "cell_type": "markdown",
   "metadata": {},
   "source": [
    "##### Avec le vectorizer TF-IDF et changement du solver"
   ]
  },
  {
   "cell_type": "markdown",
   "metadata": {},
   "source": [
    "On réalise un changement du solver pour vérifier nos propos en début de partie. Le changement est réalisé seulement pour le solver `adam`, car il est décrit comme une version optimisée du solver `sgd` dans la documentation."
   ]
  },
  {
   "cell_type": "code",
   "execution_count": null,
   "metadata": {
    "scrolled": true
   },
   "outputs": [],
   "source": [
    "nn_Tfidf = MLPClassifier(solver=\"adam\", hidden_layer_sizes=(50), alpha=3, activation=\"relu\", max_iter=1000)\n",
    "nn_Tfidf.fit(X_Tfidf_train, y_Tfidf_train)\n",
    "\n",
    "display_stats_model_trained(nn_Tfidf, X_Tfidf_train, y_Tfidf_train, X_Tfidf_test, y_Tfidf_test, False)"
   ]
  },
  {
   "cell_type": "markdown",
   "metadata": {},
   "source": [
    " "
   ]
  },
  {
   "cell_type": "markdown",
   "metadata": {},
   "source": [
    "##### Conclusion sur le Neural Network Classifier"
   ]
  },
  {
   "cell_type": "markdown",
   "metadata": {},
   "source": [
    "Le meilleur score pour ce modèle est obtenu avec les hyperparamètres suivants : `solver=\"lbfgs\"`, `hidden_layer_sizes=(50)`, `alpha=1`, `activation=\"relu\"` et `max_iter=5000`."
   ]
  },
  {
   "cell_type": "markdown",
   "metadata": {},
   "source": [
    "### Conlusion **TO DO** avec les résultats"
   ]
  },
  {
   "cell_type": "markdown",
   "metadata": {},
   "source": [
    ">A la suite de toutes ses expérimentations, les algorithmes de la famille **Naives Bayes** donnent des résultats plutôt encourageants : la précision maximale de *0.72* est atteinte pour l'un d'entre eux. On note aussi que la convergence est très rapide pour ce type d'algorithme et ce facteur est à prendre à compte pour notre modèle final.\n",
    ">\n",
    ">Pour l'algorithme **RandomTree**, les scores obtenus sont un peu plus faibles, ce modèle ne sera donc pas retenu.\n",
    ">\n",
    ">Le **KNN** propose lui aussi un manque de précision pour notre application.\n",
    ">\n",
    ">Pour finir, le **Neural Network** est le modèle avec le meilleur score. Le précision pour le test atteint les *0.75* pour une liste d'hyperparamètres. Il s'agit du modèle le plus prometteur, car il est possible de faire encore évoluer ces paramètres."
   ]
  },
  {
   "cell_type": "markdown",
   "metadata": {},
   "source": [
    " "
   ]
  },
  {
   "cell_type": "markdown",
   "metadata": {},
   "source": [
    "### Tentative pipeline NN Algorithm "
   ]
  },
  {
   "cell_type": "markdown",
   "metadata": {},
   "source": [
    "Cette dernière partie représente juste la tentative de pipeline pour le NN classifier.   \n",
    "\n",
    "Lancé sur AWS, le système a réalisé un `kill -9` après environ 5 heures de calculs..."
   ]
  },
  {
   "cell_type": "code",
   "execution_count": null,
   "metadata": {},
   "outputs": [],
   "source": [
    "from sklearn.model_selection import GridSearchCV\n",
    "\n",
    "parameter_space = {\n",
    "    'hidden_layer_sizes': [(50,)],\n",
    "    'activation': ['tanh', 'relu'],\n",
    "    'solver': ['lbfgs'],\n",
    "    'alpha': [1, 0.1],\n",
    "    'learning_rate': ['constant','adaptive'],\n",
    "}"
   ]
  },
  {
   "cell_type": "code",
   "execution_count": null,
   "metadata": {},
   "outputs": [],
   "source": [
    "mlp = MLPClassifier(max_iter=1000)\n",
    "clf = GridSearchCV(mlp, parameter_space, n_jobs=-1, cv=3)\n",
    "clf.fit(X_Tfidf_train, y_Tfidf_train)\n",
    "\n",
    "train_and_display_pipeline_results(kNeighbors_count_Grid, X_Tfidf_train, y_Tfidf_train, X_Tfidf_test, y_Tfidf_test)"
   ]
  },
  {
   "cell_type": "code",
   "execution_count": null,
   "metadata": {},
   "outputs": [],
   "source": []
  }
 ],
 "metadata": {
  "kernelspec": {
   "display_name": "Python 3",
   "language": "python",
   "name": "python3"
  },
  "language_info": {
   "codemirror_mode": {
    "name": "ipython",
    "version": 3
   },
   "file_extension": ".py",
   "mimetype": "text/x-python",
   "name": "python",
   "nbconvert_exporter": "python",
   "pygments_lexer": "ipython3",
   "version": "3.8.2"
  }
 },
 "nbformat": 4,
 "nbformat_minor": 4
}
